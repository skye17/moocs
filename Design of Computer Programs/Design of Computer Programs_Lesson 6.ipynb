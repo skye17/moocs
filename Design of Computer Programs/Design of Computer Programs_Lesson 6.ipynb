{
 "cells": [
  {
   "cell_type": "code",
   "execution_count": 66,
   "metadata": {
    "collapsed": false
   },
   "outputs": [
    {
     "name": "stdout",
     "output_type": "stream",
     "text": [
      "tests pass\n"
     ]
    }
   ],
   "source": [
    "# -----------------\n",
    "# User Instructions\n",
    "# \n",
    "# Write a function, readwordlist, that takes a filename as input and returns\n",
    "# a set of all the words and a set of all the prefixes in that file, in \n",
    "# uppercase. For testing, you can assume that you have access to a file \n",
    "# called 'words4k.txt'\n",
    "\n",
    "def prefixes(word):\n",
    "    \"A list of the initial sequences of a word, not including the complete word.\"\n",
    "    return [word[:i] for i in range(len(word))]\n",
    "\n",
    "def readwordlist(filename):\n",
    "    \"\"\"Read the words from a file and return a set of the words \n",
    "    and a set of the prefixes.\"\"\"\n",
    "    file = open(filename) # opens file\n",
    "    text = file.read()    # gets file into string\n",
    "    # your code here\n",
    "    wordset = set(text.upper().split())\n",
    "    prefixset =set(prefix for word in wordset for prefix in prefixes(word))\n",
    "    return wordset, prefixset\n",
    "    \n",
    "WORDS, PREFIXES = readwordlist('words4k.txt')\n",
    "\n",
    "def test():\n",
    "    assert len(WORDS)    == 3892\n",
    "    assert len(PREFIXES) == 6475\n",
    "    assert 'UMIAQS' in WORDS\n",
    "    assert 'MOVING' in WORDS\n",
    "    assert 'UNDERSTANDIN' in PREFIXES\n",
    "    assert 'ZOMB' in PREFIXES\n",
    "    return 'tests pass'\n",
    "\n",
    "print test()"
   ]
  },
  {
   "cell_type": "code",
   "execution_count": null,
   "metadata": {
    "collapsed": false
   },
   "outputs": [],
   "source": []
  },
  {
   "cell_type": "code",
   "execution_count": 68,
   "metadata": {
    "collapsed": false
   },
   "outputs": [],
   "source": [
    "words = set(['DIE', 'ATE', 'READ', 'AIT', 'DE', 'IDEA', 'RET', 'QUID', 'DATE', 'RATE',\n",
    "             'ETA', 'QUIET', 'ERA', 'TIE', 'DEAR', 'AID', 'TRADE', 'TRUE', 'DEE',\n",
    "             'RED', 'RAD', 'TAR', 'TAE', 'TEAR', 'TEA', 'TED', 'TEE', 'QUITE', 'RE',\n",
    "             'RAT', 'QUADRATE', 'EAR', 'EAU', 'EAT', 'QAID', 'URD', 'DUI', 'DIT', 'AE',\n",
    "             'AI', 'ED', 'TI', 'IT', 'DUE', 'AQUAE', 'AR', 'ET', 'ID', 'ER', 'QUIT',\n",
    "             'ART', 'AREA', 'EQUID', 'RUE', 'TUI', 'ARE', 'QI', 'ADEQUATE', 'RUT'])\n",
    "l = list(words).sort(key = len, reverse = True)"
   ]
  },
  {
   "cell_type": "code",
   "execution_count": 69,
   "metadata": {
    "collapsed": false
   },
   "outputs": [],
   "source": [
    "l"
   ]
  },
  {
   "cell_type": "code",
   "execution_count": 22,
   "metadata": {
    "collapsed": false
   },
   "outputs": [
    {
     "name": "stdout",
     "output_type": "stream",
     "text": [
      "['QUADRATE', 'ADEQUATE', 'QUITE', 'TRADE', 'QUIET', 'EQUID', 'AQUAE', 'READ', 'IDEA', 'DATE', 'RATE', 'DEAR', 'TRUE', 'TEAR', 'QAID', 'QUIT', 'AREA', 'QUID', 'ATE', 'DIE', 'RET', 'ETA', 'ERA', 'TIE', 'AID', 'DEE', 'RED', 'RAD', 'TUI', 'TAR', 'TEA', 'TED', 'TEE', 'TAE', 'RAT', 'AIT', 'EAR', 'EAU', 'EAT', 'URD', 'DUI', 'DIT', 'ART', 'DUE', 'RUE', 'ARE', 'RUT', 'DE', 'RE', 'TI', 'AE', 'AI', 'ED', 'IT', 'QI', 'AR', 'ET', 'ID', 'ER']\n"
     ]
    }
   ],
   "source": [
    "print sorted(list(words), key = len, reverse = True)"
   ]
  },
  {
   "cell_type": "code",
   "execution_count": null,
   "metadata": {
    "collapsed": false
   },
   "outputs": [],
   "source": []
  },
  {
   "cell_type": "code",
   "execution_count": 1,
   "metadata": {
    "collapsed": true
   },
   "outputs": [],
   "source": [
    "#Homework"
   ]
  },
  {
   "cell_type": "code",
   "execution_count": 70,
   "metadata": {
    "collapsed": false
   },
   "outputs": [
    {
     "name": "stdout",
     "output_type": "stream",
     "text": [
      "tests pass\n"
     ]
    }
   ],
   "source": [
    "# Anagrams\n",
    "# -----------------\n",
    "# User Instructions\n",
    "# \n",
    "# This homework deals with anagrams. An anagram is a rearrangement \n",
    "# of the letters in a word to form one or more new words. \n",
    "#\n",
    "# Your job is to write a function anagrams(), which takes as input \n",
    "# a phrase and an optional argument, shortest, which is an integer \n",
    "# that specifies the shortest acceptable word. Your function should\n",
    "# return a set of all the possible combinations of anagrams. \n",
    "#\n",
    "# Your function should not return every permutation of a multi word\n",
    "# anagram: only the permutation where the words are in alphabetical\n",
    "# order. For example, for the input string 'ANAGRAMS' the set that \n",
    "# your function returns should include 'AN ARM SAG', but should NOT \n",
    "# include 'ARM SAG AN', or 'SAG AN ARM', etc...\n",
    "\n",
    "def partition_phrase(letters, shortest):\n",
    "    \"\"\"Returns list of all possible partitions of letters\"\"\"\n",
    "    words = find_words(letters, WORDS)\n",
    "    partitions = set()\n",
    "    if not words:\n",
    "        return None\n",
    "    for word in words:\n",
    "        if len(word) < shortest:\n",
    "            continue\n",
    "        new_letters = removed(letters, word)\n",
    "        if new_letters == '':\n",
    "            partitions.add(tuple([word]))\n",
    "        else:\n",
    "            rest_partitions = partition_phrase(new_letters, shortest) \n",
    "            if rest_partitions:\n",
    "                for r_p in rest_partitions:\n",
    "                    new = r_p + (word,)\n",
    "                    partitions.add(tuple(sorted(new)))\n",
    "    return partitions\n",
    "\n",
    "def anagrams(phrase, shortest=2):\n",
    "    \"\"\"Return a set of phrases with words from WORDS that form anagram\n",
    "    of phrase. Spaces can be anywhere in phrase or anagram. All words \n",
    "    have length >= shortest. Phrases in answer must have words in \n",
    "    lexicographic order (not all permutations).\"\"\"\n",
    "    letters = ''\n",
    "    for c in phrase: \n",
    "        if c != ' ':\n",
    "            letters += c\n",
    "    result = partition_phrase(letters, shortest)\n",
    "    return set([' '.join(partition) for partition in result])\n",
    "    \n",
    "    \n",
    "# ------------\n",
    "# Helpful functions\n",
    "# \n",
    "# You may find the following functions useful. These functions\n",
    "# are identical to those we defined in lecture. \n",
    "\n",
    "def removed(letters, remove):\n",
    "    \"Return a str of letters, but with each letter in remove removed once.\"\n",
    "    for L in remove:\n",
    "        letters = letters.replace(L, '', 1)\n",
    "    return letters\n",
    "\n",
    "def find_words(letters, words):\n",
    "    return extend_prefix('', letters, set(), words)\n",
    "\n",
    "def extend_prefix(pre, letters, results, words):\n",
    "    if pre in words: results.add(pre)\n",
    "    if pre in PREFIXES:\n",
    "        for L in letters:\n",
    "            extend_prefix(pre+L, letters.replace(L, '', 1), results, words)\n",
    "    return results\n",
    "\n",
    "def prefixes(word):\n",
    "    \"A list of the initial sequences of a word, not including the complete word.\"\n",
    "    return [word[:i] for i in range(len(word))]\n",
    "\n",
    "def readwordlist(filename):\n",
    "    \"Return a pair of sets: all the words in a file, and all the prefixes. (Uppercased.)\"\n",
    "    wordset = set(open(filename).read().upper().split())\n",
    "    prefixset = set(p for word in wordset for p in prefixes(word))\n",
    "    return wordset, prefixset\n",
    "\n",
    "WORDS, PREFIXES = readwordlist('words4k.txt')\n",
    "\n",
    "# ------------\n",
    "# Testing\n",
    "# \n",
    "# Run the function test() to see if your function behaves as expected.\n",
    "\n",
    "def test():\n",
    "    assert 'DOCTOR WHO' in anagrams('TORCHWOOD')\n",
    "    assert 'BOOK SEC TRY' in anagrams('OCTOBER SKY')\n",
    "    assert 'SEE THEY' in anagrams('THE EYES')\n",
    "    assert 'LIVES' in anagrams('ELVIS')\n",
    "    assert anagrams('PYTHONIC') == set([\n",
    "        'NTH PIC YO', 'NTH OY PIC', 'ON PIC THY', 'NO PIC THY', 'COY IN PHT',\n",
    "        'ICY NO PHT', 'ICY ON PHT', 'ICY NTH OP', 'COP IN THY', 'HYP ON TIC',\n",
    "        'CON PI THY', 'HYP NO TIC', 'COY NTH PI', 'CON HYP IT', 'COT HYP IN',\n",
    "        'CON HYP TI'])\n",
    "    return 'tests pass'\n",
    "\n",
    "print test()"
   ]
  },
  {
   "cell_type": "code",
   "execution_count": null,
   "metadata": {
    "collapsed": false
   },
   "outputs": [],
   "source": []
  },
  {
   "cell_type": "code",
   "execution_count": null,
   "metadata": {
    "collapsed": true
   },
   "outputs": [],
   "source": []
  },
  {
   "cell_type": "code",
   "execution_count": null,
   "metadata": {
    "collapsed": true
   },
   "outputs": [],
   "source": []
  },
  {
   "cell_type": "code",
   "execution_count": 1,
   "metadata": {
    "collapsed": true
   },
   "outputs": [],
   "source": [
    "# Blank tiles"
   ]
  },
  {
   "cell_type": "code",
   "execution_count": 18,
   "metadata": {
    "collapsed": false
   },
   "outputs": [
    {
     "name": "stdout",
     "output_type": "stream",
     "text": [
      "True\n",
      "True\n",
      "True\n",
      "None\n"
     ]
    }
   ],
   "source": [
    "# -----------------\n",
    "# User Instructions\n",
    "# \n",
    "# Modify our scrabble program to accept blank tiles and score \n",
    "# them appropriately. You can do this in whatever manner you \n",
    "# wish as long as you match the given test cases.\n",
    "\n",
    "POINTS = dict(A=1, B=3, C=3, D=2, E=1, F=4, G=2, H=4, I=1, J=8, K=5, L=1, M=3, N=1, O=1, P=3, Q=10, R=1, S=1, T=1, U=1, V=4, W=4, X=8, Y=4, Z=10, _=0)\n",
    "\n",
    "def bonus_template(quadrant):\n",
    "    \"Make a board from the upper-left quadrant.\"\n",
    "    return mirror(map(mirror, quadrant.split()))\n",
    "\n",
    "def mirror(sequence): return sequence + sequence[-2::-1]\n",
    "\n",
    "SCRABBLE = bonus_template(\"\"\"\n",
    "|||||||||\n",
    "|3..:...3\n",
    "|.2...;..\n",
    "|..2...:.\n",
    "|:..2...:\n",
    "|....2...\n",
    "|.;...;..\n",
    "|..:...:.\n",
    "|3..:...*\n",
    "\"\"\")\n",
    "\n",
    "WWF = bonus_template(\"\"\"\n",
    "|||||||||\n",
    "|...3..;.\n",
    "|..:..2..\n",
    "|.:..:...\n",
    "|3..;...2\n",
    "|..:...:.\n",
    "|.2...3..\n",
    "|;...:...\n",
    "|...:...*\n",
    "\"\"\")\n",
    "\n",
    "BONUS = WWF\n",
    "\n",
    "DW, TW, DL, TL = '23:;'   \n",
    "\n",
    "def removed(letters, remove):\n",
    "    \"Return a str of letters, but with each letter in remove removed once.\"\n",
    "    for L in remove:\n",
    "        letters = letters.replace(L, '', 1)\n",
    "    return letters\n",
    "\n",
    "def prefixes(word):\n",
    "    \"A list of the initial sequences of a word, not including the complete word.\"\n",
    "    return [word[:i] for i in range(len(word))]\n",
    "           \n",
    "def transpose(matrix):\n",
    "    \"Transpose e.g. [[1,2,3], [4,5,6]] to [[1, 4], [2, 5], [3, 6]]\"\n",
    "    # or [[M[j][i] for j in range(len(M))] for i in range(len(M[0]))]\n",
    "    return map(list, zip(*matrix))\n",
    "\n",
    "def readwordlist(filename):\n",
    "    \"Return a pair of sets: all the words in a file, and all the prefixes. (Uppercased.)\"\n",
    "    wordset = set(file(filename).read().upper().split())\n",
    "    prefixset = set(p for word in wordset for p in prefixes(word))\n",
    "    return wordset, prefixset\n",
    "\n",
    "WORDS, PREFIXES = readwordlist('words4k.txt')\n",
    "\n",
    "class anchor(set):\n",
    "    \"An anchor is where a new word can be placed; has a set of allowable letters.\"\n",
    "\n",
    "LETTERS = list('ABCDEFGHIJKLMNOPQRSTUVWXYZ')\n",
    "ANY = anchor(LETTERS) # The anchor that can be any letter\n",
    "\n",
    "def is_letter(sq):\n",
    "    return isinstance(sq, str) and sq in LETTERS\n",
    "\n",
    "def is_empty(sq):\n",
    "    \"Is this an empty square (no letters, but a valid position on board).\"\n",
    "    return sq  == '.' or sq == '*' or isinstance(sq, set) \n",
    "\n",
    "def add_suffixes(hand, pre, start, row, results, anchored=True):\n",
    "    \"Add all possible suffixes, and accumulate (start, word) pairs in results.\"\n",
    "    i = start + len(pre)\n",
    "    if pre.upper() in WORDS and anchored and not is_letter(row[i]):\n",
    "        results.add((start, pre))\n",
    "    if pre.upper() in PREFIXES:       \n",
    "        sq = row[i]\n",
    "        if is_letter(sq):\n",
    "            add_suffixes(hand, pre+sq, start, row, results)        \n",
    "        elif is_empty(sq):        \n",
    "            possibilities = sq if isinstance(sq, set) else ANY\n",
    "            for L in hand:\n",
    "                if is_blank(L):\n",
    "                    for letter in possibilities:\n",
    "                        add_suffixes(hand.replace(L, '', 1), pre + letter.lower(), start, row, results)\n",
    "                elif L in possibilities:\n",
    "                    add_suffixes(hand.replace(L, '', 1), pre+L, start, row, results)\n",
    "    return results\n",
    "\n",
    "def legal_prefix(i, row):\n",
    "    \"\"\"A legal prefix of an anchor at row[i] is either a string of letters\n",
    "    already on the board, or new letters that fit into an empty space.\n",
    "    Return the tuple (prefix_on_board, maxsize) to indicate this.\n",
    "    E.g. legal_prefix(a_row, 9) == ('BE', 2) and for 6, ('', 2).\"\"\"\n",
    "    s = i\n",
    "    while is_letter(row[s-1]): s -= 1\n",
    "    if s < i: ## There is a prefix\n",
    "        return ''.join(row[s:i]), i-s\n",
    "    while is_empty(row[s-1]) and not isinstance(row[s-1], set): s -= 1\n",
    "    return ('', i-s)\n",
    "\n",
    "prev_hand, prev_results = '', set() # cache for find_prefixes\n",
    "\n",
    "def is_blank(letter):\n",
    "    return letter == '_'\n",
    "\n",
    "def find_prefixes(hand, pre='', results=None):\n",
    "    ## Cache the most recent full hand (don't cache intermediate results)\n",
    "    global prev_hand, prev_results\n",
    "    if hand.upper() == prev_hand: return prev_results\n",
    "    if results is None: results = set()\n",
    "    if pre == '': prev_hand, prev_results = hand, results\n",
    "    # Now do the computation\n",
    "    if pre.upper() in WORDS or pre.upper() in PREFIXES: results.add(pre)\n",
    "    if pre.upper() in PREFIXES:\n",
    "        for L in hand:\n",
    "            if is_blank(L):\n",
    "                for letter in LETTERS:\n",
    "                    find_prefixes(hand.replace(L,'',1), pre+letter.lower(), results)\n",
    "            else:\n",
    "                find_prefixes(hand.replace(L, '', 1), pre+L, results)\n",
    "    return results\n",
    "\n",
    "def row_plays(hand, row):\n",
    "    \"Return a set of legal plays in row.  A row play is an (start, 'WORD') pair.\"\n",
    "    results = set()\n",
    "    ## To each allowable prefix, add all suffixes, keeping words\n",
    "    for (i, sq) in enumerate(row[1:-1], 1):\n",
    "        if isinstance(sq, set):\n",
    "            pre, maxsize = legal_prefix(i, row)\n",
    "            if pre: ## Add to the letters already on the board\n",
    "                start = i - len(pre)\n",
    "                add_suffixes(hand, pre, start, row, results, anchored=False)\n",
    "            else: ## Empty to left: go through the set of all possible prefixes\n",
    "                for pre in find_prefixes(hand):\n",
    "                    if len(pre) <= maxsize:\n",
    "                        start = i - len(pre)\n",
    "                        add_suffixes(removed(hand, pre), pre, start, row, results,\n",
    "                                     anchored=False)\n",
    "    return results\n",
    "\n",
    "def find_cross_word(board, i, j):\n",
    "    \"\"\"Find the vertical word that crosses board[j][i]. Return (j2, w),\n",
    "    where j2 is the starting row, and w is the word\"\"\"\n",
    "    sq = board[j][i]\n",
    "    w = sq if is_letter(sq) else '.'\n",
    "    for j2 in range(j, 0, -1):\n",
    "        sq2 = board[j2-1][i]\n",
    "        if is_letter(sq2): w = sq2 + w\n",
    "        else: break\n",
    "    for j3 in range(j+1, len(board)):\n",
    "        sq3 = board[j3][i]\n",
    "        if is_letter(sq3): w = w + sq3\n",
    "        else: break\n",
    "    return (j2, w)\n",
    "\n",
    "def neighbors(board, i, j):\n",
    "    \"\"\"Return a list of the contents of the four neighboring squares,\n",
    "    in the order N,S,E,W.\"\"\"\n",
    "    return [board[j-1][i], board[j+1][i],\n",
    "            board[j][i+1], board[j][i-1]]\n",
    "\n",
    "def set_anchors(row, j, board):\n",
    "    \"\"\"Anchors are empty squares with a neighboring letter. Some are resticted\n",
    "    by cross-words to be only a subset of letters.\"\"\"\n",
    "    for (i, sq) in enumerate(row[1:-1], 1):\n",
    "        neighborlist = (N,S,E,W) = neighbors(board, i, j)\n",
    "        # Anchors are squares adjacent to a letter.  Plus the '*' square.\n",
    "        if sq == '*' or (is_empty(sq) and any(map(is_letter, neighborlist))):    \n",
    "            if is_letter(N) or is_letter(S):   \n",
    "                # Find letters that fit with the cross (vertical) word\n",
    "                (j2, w) = find_cross_word(board, i, j)\n",
    "                row[i] = anchor(L for L in LETTERS if w.replace('.', L) in WORDS)\n",
    "            else: # Unrestricted empty square -- any letter will fit.\n",
    "                row[i] = ANY\n",
    "\n",
    "def calculate_score(board, pos, direction, hand, word):\n",
    "    \"Return the total score for this play.\"\n",
    "    total, crosstotal, word_mult = 0, 0, 1\n",
    "    starti, startj = pos\n",
    "    di, dj = direction\n",
    "    other_direction = DOWN if direction == ACROSS else ACROSS\n",
    "    for (n, L) in enumerate(word):\n",
    "        i, j = starti + n*di, startj + n*dj\n",
    "        sq = board[j][i]\n",
    "        b = BONUS[j][i]\n",
    "        word_mult *= (1 if is_letter(sq) else\n",
    "                      3 if b == TW else 2 if b in (DW,'*') else 1)\n",
    "        letter_mult = (1 if is_letter(sq) else\n",
    "                       3 if b == TL else 2 if b == DL else 1)\n",
    "        if not L.islower():\n",
    "            total += POINTS[L] * letter_mult\n",
    "        if isinstance(sq, set) and sq is not ANY and direction is not DOWN:\n",
    "                crosstotal += cross_word_score(board, L, (i, j), other_direction)\n",
    "    return crosstotal + word_mult * total\n",
    "    \n",
    "def cross_word_score(board, L, pos, direction):\n",
    "    \"Return the score of a word made in the other direction from the main word.\"\n",
    "    i, j = pos\n",
    "    (j2, word) = find_cross_word(board, i, j)\n",
    "    return calculate_score(board, (i, j2), DOWN, L, word.replace('.', L))    \n",
    "  \n",
    "ACROSS, DOWN = (1, 0), (0, 1) # Directions that words can go\n",
    "   \n",
    "def horizontal_plays(hand, board):\n",
    "    \"Find all horizontal plays -- (score, pos, word) pairs -- across all rows.\"\n",
    "    results = set()\n",
    "    for (j, row) in enumerate(board[1:-1], 1):\n",
    "        set_anchors(row, j, board)\n",
    "        for (i, word) in row_plays(hand, row):\n",
    "            score = calculate_score(board, (i, j), ACROSS, hand, word)\n",
    "            results.add((score, (i, j), word))\n",
    "    return results\n",
    "\n",
    "\n",
    "def all_plays(hand, board):\n",
    "    \"\"\"All plays in both directions. A play is a (score, pos, dir, word) tuple,\n",
    "    where pos is an (i, j) pair, and dir is a (delta-_i, delta_j) pair.\"\"\"\n",
    "    hplays = horizontal_plays(hand, board)\n",
    "    vplays = horizontal_plays(hand, transpose(board))\n",
    "    return (set((score, (i, j), ACROSS, w) for (score, (i, j), w) in hplays) |\n",
    "            set((score, (i, j), DOWN, w) for (score, (j, i), w) in vplays))\n",
    " \n",
    "def make_play(play, board):\n",
    "    \"Put the word down on the board.\"\n",
    "    (score, (i, j), (di, dj), word) = play\n",
    "    for (n, L) in enumerate(word):\n",
    "        board[j+ n*dj][i + n*di] = L\n",
    "    return board\n",
    "\n",
    "NOPLAY = None\n",
    "\n",
    "def best_play(hand, board):\n",
    "    \"Return the highest-scoring play.  Or None.\"\n",
    "    plays = all_plays(hand, board)\n",
    "    return sorted(plays)[-1] if plays else NOPLAY\n",
    "\n",
    "def a_board():\n",
    "    return map(list, ['|||||||||||||||||',\n",
    "                      '|J............I.|',\n",
    "                      '|A.....BE.C...D.|',\n",
    "                      '|GUY....F.H...L.|',\n",
    "                      '|||||||||||||||||'])\n",
    "\n",
    "def test():\n",
    "    def ok(hand, n, s, d, w):\n",
    "        result = best_play(hand, a_board())\n",
    "        test_case = result[:3] == (n, s, d) and result[-1].upper() == w.upper()\n",
    "        print test_case\n",
    "        return test_case\n",
    "    assert ok('ABCEHKN', 64, (3, 2), (1, 0), 'BACKBENCH')\n",
    "    assert ok('_BCEHKN', 62, (3, 2), (1, 0), 'BaCKBENCH')\n",
    "    assert ok('__CEHKN', 61, (9, 1), (1, 0), 'KiCk')\n",
    "\n",
    "print test()\n"
   ]
  },
  {
   "cell_type": "code",
   "execution_count": 19,
   "metadata": {
    "collapsed": false
   },
   "outputs": [
    {
     "data": {
      "text/plain": [
       "('three',)"
      ]
     },
     "execution_count": 19,
     "metadata": {},
     "output_type": "execute_result"
    }
   ],
   "source": [
    "tuple(['three'])"
   ]
  },
  {
   "cell_type": "code",
   "execution_count": 60,
   "metadata": {
    "collapsed": false
   },
   "outputs": [
    {
     "name": "stdout",
     "output_type": "stream",
     "text": [
      "(1, 2, 3)\n"
     ]
    }
   ],
   "source": [
    "k = tuple(sorted((1,3,2)))\n",
    "print k"
   ]
  },
  {
   "cell_type": "code",
   "execution_count": null,
   "metadata": {
    "collapsed": false
   },
   "outputs": [],
   "source": []
  },
  {
   "cell_type": "code",
   "execution_count": null,
   "metadata": {
    "collapsed": true
   },
   "outputs": [],
   "source": []
  },
  {
   "cell_type": "code",
   "execution_count": null,
   "metadata": {
    "collapsed": true
   },
   "outputs": [],
   "source": []
  },
  {
   "cell_type": "code",
   "execution_count": 1,
   "metadata": {
    "collapsed": true
   },
   "outputs": [],
   "source": [
    "#Boggle"
   ]
  },
  {
   "cell_type": "code",
   "execution_count": 125,
   "metadata": {
    "collapsed": false
   },
   "outputs": [
    {
     "name": "stdout",
     "output_type": "stream",
     "text": [
      "tests pass\n"
     ]
    }
   ],
   "source": [
    "# -----------------\n",
    "# User Instructions\n",
    "# \n",
    "# In this problem, you will define a function, boggle_words(), \n",
    "# that takes a board as input and returns a set of words that\n",
    "# can be made from the board according to the rules of Boggle.\n",
    "import math\n",
    "\n",
    "def find_longest_words(pos, N, board, min_length, history = frozenset(), pre = '', results = None):\n",
    "    if results == None:\n",
    "        results = set()\n",
    "    if pos not in history and board[pos] != BORDER:\n",
    "        extended = pre+board[pos]\n",
    "        if extended in PREFIXES or extended in WORDS:\n",
    "            for n_pos in neighbors(pos, N):\n",
    "                find_longest_words(n_pos, N, board, min_length,history.union(set([pos])), extended, results)\n",
    "        elif pre in WORDS or pre in PREFIXES:\n",
    "            if len(pre) >= min_length:\n",
    "                results.add(pre)\n",
    "    return results\n",
    "\n",
    "def good_prefixes(word, minlength):\n",
    "    n  = len(word)\n",
    "    good = set()\n",
    "    for i in range(minlength, len(word)+1):\n",
    "        prefix = word[:i]\n",
    "        if prefix in WORDS:\n",
    "            good.add(prefix)\n",
    "    return good\n",
    "        \n",
    "def boggle_words(board, minlength=3):\n",
    "    \"Find all the words on this Boggle board; return as a set of words.\"\n",
    "    N = int(math.sqrt(len(board)))\n",
    "    all_results = set()\n",
    "    #print find_longest_words(16, N, board, minlength)\n",
    "    \n",
    "    for pos in range(N+1, len(board) - N - 1, 1):\n",
    "        new_res = find_longest_words(pos, N, board, minlength)\n",
    "        for word in new_res:\n",
    "            all_results = all_results.union(good_prefixes(word, minlength))\n",
    "    return all_results\n",
    "    # your code here\n",
    "    \n",
    "def test():\n",
    "    b = Board('XXXX TEST XXXX XXXX')\n",
    "    assert b == '|||||||XXXX||TEST||XXXX||XXXX|||||||'\n",
    "    assert display(b) == \"\"\"\n",
    "||||||\n",
    "|XXXX|\n",
    "|TEST|\n",
    "|XXXX|\n",
    "|XXXX|\n",
    "||||||\"\"\".strip()\n",
    "    assert boggle_words(b) == set(['SET', 'SEX', 'TEST'])\n",
    "    assert neighbors(20, 6) == (13, 14, 15, 19, 21, 25, 26, 27)\n",
    "    assert len(boggle_words(Board('TPLER ORAIS METND DASEU NOWRB'))) == 317\n",
    "    assert boggle_words(Board('PLAY THIS WORD GAME')) == set([\n",
    "        'LID', 'SIR', 'OAR', 'LIS', 'RAG', 'SAL', 'RAM', 'RAW', 'SAY', 'RID', \n",
    "        'RIA', 'THO', 'HAY', 'MAR', 'HAS', 'AYS', 'PHI', 'OIL', 'MAW', 'THIS', \n",
    "        'LAY', 'RHO', 'PHT', 'PLAYS', 'ASIDE', 'ROM', 'RIDE', 'ROT', 'ROW', 'MAG', \n",
    "        'THIRD', 'WOT', 'MORE', 'WOG', 'WORE', 'SAID', 'MOR', 'SAIL', 'MOW', 'MOT', \n",
    "        'LAID', 'MOA', 'LAS', 'MOG', 'AGO', 'IDS', 'HAIR', 'GAME', 'REM', 'HOME', \n",
    "        'RED', 'WORD', 'WHA', 'WHO', 'WHOM', 'YID', 'DRAW', 'WAG', 'SRI', 'TOW', \n",
    "        'DRAG', 'YAH', 'WAR', 'MED', 'HIRE', 'TOWARDS', 'ORS', 'ALT', 'ORE', 'SIDE', \n",
    "        'ALP', 'ORA', 'TWA', 'ERS', 'TOR', 'TWO', 'AIS', 'AIR', 'AIL', 'ERA', 'TOM', \n",
    "        'AID', 'TOG', 'DIS', 'HIS', 'GAR', 'GAM', 'HID', 'HOG', 'PLAY', 'GOA', 'HOW', \n",
    "        'HOT', 'WARM', 'GOT', 'IRE', 'GOR', 'ARS', 'ARM', 'ARE', 'TOWARD', 'THROW'])    \n",
    "    return 'tests pass'\n",
    "\n",
    "    \n",
    "def Board(text):\n",
    "    \"\"\"Input is a string of space-separated rows of N letters each;\n",
    "    result is a string of size (N+2)**2 with borders all around.\"\"\"\n",
    "    rows = text.split()\n",
    "    N = len(rows)\n",
    "    rows = [BORDER*N] + rows + [BORDER*N]\n",
    "    return ''.join(BORDER + row + BORDER for row in rows)\n",
    "\n",
    "def size(board): return int(len(board)**0.5)\n",
    "\n",
    "def neighbors(i, N):\n",
    "    return (i-N-1, i-N, i-N+1, i-1, i+1, i+N-1, i+N, i+N+1)\n",
    "\n",
    "BORDER = '|'\n",
    "\n",
    "def display(board):\n",
    "    \"Return a string representation of board, suitable for printing.\"\n",
    "    N = size(board)\n",
    "    return '\\n'.join(board[i:i+N] for i in range(0, N**2, N))\n",
    "\n",
    "# ------------\n",
    "# Helpful functions\n",
    "# \n",
    "# You may find the following functions useful. These functions\n",
    "# are identical to those we defined in lecture. \n",
    "\n",
    "def prefixes(word):\n",
    "    \"A list of the initial sequences of a word, not including the complete word.\"\n",
    "    return [word[:i] for i in range(len(word))]\n",
    "\n",
    "def readwordlist(filename):\n",
    "    \"Return a pair of sets: all the words in a file, and all the prefixes. (Uppercased.)\"\n",
    "    wordset = set(open(filename).read().upper().split())\n",
    "    prefixset = set(p for word in wordset for p in prefixes(word))\n",
    "    return wordset, prefixset\n",
    "\n",
    "WORDS, PREFIXES = readwordlist('words4k.txt')\n",
    "\n",
    "print test()"
   ]
  },
  {
   "cell_type": "code",
   "execution_count": null,
   "metadata": {
    "collapsed": false
   },
   "outputs": [],
   "source": []
  },
  {
   "cell_type": "code",
   "execution_count": null,
   "metadata": {
    "collapsed": false
   },
   "outputs": [],
   "source": [
    "#Instructor's solution to Boggle:\n",
    "def boggle_words(board,minlength = 3):\n",
    "    result = set()\n",
    "    N = size(board)\n",
    "    \n",
    "    def extend_path(prefix, path):\n",
    "        if prefix in words and len(prefix) >= minlength:\n",
    "            result.add(prefix)\n",
    "        if prefix in prefixes:\n",
    "            for j in neighbors(path[-1], N):\n",
    "                if j not in path and board[j] != BORDER:\n",
    "                    extend_path(prefix+board[j], path+[j])\n",
    "    \n",
    "    for (i, L) in enumerate(board):\n",
    "        if L != BORDER\n",
    "            extend_path(L,[i])\n",
    "    return result"
   ]
  },
  {
   "cell_type": "code",
   "execution_count": null,
   "metadata": {
    "collapsed": false
   },
   "outputs": [],
   "source": []
  },
  {
   "cell_type": "code",
   "execution_count": null,
   "metadata": {
    "collapsed": false
   },
   "outputs": [],
   "source": []
  },
  {
   "cell_type": "code",
   "execution_count": null,
   "metadata": {
    "collapsed": false
   },
   "outputs": [],
   "source": []
  },
  {
   "cell_type": "code",
   "execution_count": null,
   "metadata": {
    "collapsed": true
   },
   "outputs": [],
   "source": []
  }
 ],
 "metadata": {
  "kernelspec": {
   "display_name": "Python 2",
   "language": "python",
   "name": "python2"
  },
  "language_info": {
   "codemirror_mode": {
    "name": "ipython",
    "version": 2
   },
   "file_extension": ".py",
   "mimetype": "text/x-python",
   "name": "python",
   "nbconvert_exporter": "python",
   "pygments_lexer": "ipython2",
   "version": "2.7.10"
  }
 },
 "nbformat": 4,
 "nbformat_minor": 0
}
