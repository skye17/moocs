{
 "cells": [
  {
   "cell_type": "code",
   "execution_count": 4,
   "metadata": {
    "collapsed": true
   },
   "outputs": [],
   "source": [
    "def search(pattern, text):\n",
    "    \"\"\"Return true if pattern appears anywhere in text\n",
    "\t   Please fill in the match(          , text) below.\n",
    "\t   For example, match(your_code_here, text)\"\"\"\n",
    "    if pattern.startswith('^'):\n",
    "        return match(pattern[1:], text) # fill this line\n",
    "    else:\n",
    "        return match('.*'+pattern, text) # fill this line"
   ]
  },
  {
   "cell_type": "code",
   "execution_count": 3,
   "metadata": {
    "collapsed": false
   },
   "outputs": [
    {
     "data": {
      "text/plain": [
       "'bba'"
      ]
     },
     "execution_count": 3,
     "metadata": {},
     "output_type": "execute_result"
    }
   ],
   "source": [
    "str = \"abba\"\n",
    "str[1:]"
   ]
  },
  {
   "cell_type": "code",
   "execution_count": 19,
   "metadata": {
    "collapsed": false
   },
   "outputs": [
    {
     "name": "stdout",
     "output_type": "stream",
     "text": [
      "tests pass\n"
     ]
    }
   ],
   "source": [
    "#----------------\n",
    "# User Instructions\n",
    "#\n",
    "# The function, matchset, takes a pattern and a text as input\n",
    "# and returns a set of remainders. For example, if matchset \n",
    "# were called with the pattern star(lit(a)) and the text \n",
    "# 'aaab', matchset would return a set with elements \n",
    "# {'aaab', 'aab', 'ab', 'b'}, since a* can consume one, two\n",
    "# or all three of the a's in the text.\n",
    "#\n",
    "# Your job is to complete this function by filling in the \n",
    "# 'dot' and 'oneof' operators to return the correct set of \n",
    "# remainders.\n",
    "#\n",
    "# dot:   matches any character.\n",
    "# oneof: matches any of the characters in the string it is \n",
    "#        called with. oneof('abc') will match a or b or c.\n",
    "\n",
    "def matchset(pattern, text):\n",
    "    \"Match pattern at start of text; return a set of remainders of text.\"\n",
    "    op, x, y = components(pattern)\n",
    "    if 'lit' == op:\n",
    "        return set([text[len(x):]]) if text.startswith(x) else null\n",
    "    elif 'seq' == op:\n",
    "        return set(t2 for t1 in matchset(x, text) for t2 in matchset(y, t1))\n",
    "    elif 'alt' == op:\n",
    "        return matchset(x, text) | matchset(y, text)\n",
    "    elif 'dot' == op:\n",
    "        return set([text[1:]]) if text != '' else null\n",
    "    elif 'oneof' == op:\n",
    "        return set([text[1:]]) if text[0] in list(x) else null\n",
    "    elif 'eol' == op:\n",
    "        return set(['']) if text == '' else null\n",
    "    elif 'star' == op:\n",
    "        return (set([text]) |\n",
    "                set(t2 for t1 in matchset(x, text)\n",
    "                    for t2 in matchset(pattern, t1) if t1 != text))\n",
    "    else:\n",
    "        raise ValueError('unknown pattern: %s' % pattern)\n",
    "        \n",
    "null = frozenset()\n",
    "\n",
    "def components(pattern):\n",
    "    \"Return the op, x, and y arguments; x and y are None if missing.\"\n",
    "    x = pattern[1] if len(pattern) > 1 else None\n",
    "    y = pattern[2] if len(pattern) > 2 else None\n",
    "    return pattern[0], x, y\n",
    "   \n",
    "def test():\n",
    "    assert matchset(('lit', 'abc'), 'abcdef')            == set(['def'])\n",
    "    assert matchset(('seq', ('lit', 'hi '),\n",
    "                     ('lit', 'there ')), \n",
    "                   'hi there nice to meet you')          == set(['nice to meet you'])\n",
    "    assert matchset(('alt', ('lit', 'dog'), \n",
    "                    ('lit', 'cat')), 'dog and cat')      == set([' and cat'])\n",
    "                                                            \n",
    "    assert matchset(('dot',), 'am i missing something?') == set(['m i missing something?'])\n",
    "    assert matchset(('oneof', 'a'), 'aabc123')           == set(['abc123'])\n",
    "    assert matchset(('eol',),'')                         == set([''])\n",
    "    assert matchset(('eol',),'not end of line')          == frozenset([])\n",
    "    assert matchset(('star', ('lit', 'hey')), 'heyhey!') == set(['!', 'heyhey!', 'hey!'])\n",
    "    \n",
    "    return 'tests pass'\n",
    "\n",
    "print test()"
   ]
  },
  {
   "cell_type": "code",
   "execution_count": null,
   "metadata": {
    "collapsed": false
   },
   "outputs": [],
   "source": []
  },
  {
   "cell_type": "code",
   "execution_count": 24,
   "metadata": {
    "collapsed": false
   },
   "outputs": [
    {
     "name": "stdout",
     "output_type": "stream",
     "text": [
      "tests pass\n"
     ]
    }
   ],
   "source": [
    "def lit(string):  return ('lit', string)\n",
    "def seq(x, y):    return ('seq', x, y)\n",
    "def alt(x, y):    return ('alt', x, y)\n",
    "def star(x):      return ('star', x)\n",
    "def plus(x):      return ('seq', x, ('star', x))\n",
    "def opt(x):       return alt(lit(''), x) #opt(x) means that x is optional\n",
    "def oneof(chars): return ('oneof', tuple(chars))\n",
    "dot = ('dot',)\n",
    "eol = ('eol',)\n",
    "\n",
    "def test():\n",
    "    assert lit('abc')         == ('lit', 'abc')\n",
    "    assert seq(('lit', 'a'), \n",
    "               ('lit', 'b'))  == ('seq', ('lit', 'a'), ('lit', 'b'))\n",
    "    assert alt(('lit', 'a'), \n",
    "               ('lit', 'b'))  == ('alt', ('lit', 'a'), ('lit', 'b'))\n",
    "    assert star(('lit', 'a')) == ('star', ('lit', 'a'))\n",
    "    assert plus(('lit', 'c')) == ('seq', ('lit', 'c'), \n",
    "                                  ('star', ('lit', 'c')))\n",
    "    assert opt(('lit', 'x'))  == ('alt', ('lit', ''), ('lit', 'x'))\n",
    "    assert oneof('abc')       == ('oneof', ('a', 'b', 'c'))\n",
    "    return 'tests pass'\n",
    "\n",
    "print test()"
   ]
  },
  {
   "cell_type": "code",
   "execution_count": 27,
   "metadata": {
    "collapsed": false
   },
   "outputs": [
    {
     "data": {
      "text/plain": [
       "'apap'"
      ]
     },
     "execution_count": 27,
     "metadata": {},
     "output_type": "execute_result"
    }
   ],
   "source": [
    "text = 'apapapa'\n",
    "text[:len(text)-3]"
   ]
  },
  {
   "cell_type": "code",
   "execution_count": 29,
   "metadata": {
    "collapsed": false
   },
   "outputs": [
    {
     "name": "stdout",
     "output_type": "stream",
     "text": [
      "tests pass\n"
     ]
    }
   ],
   "source": [
    "#---------------\n",
    "# User Instructions\n",
    "#\n",
    "# Complete the search and match functions. Match should\n",
    "# match a pattern only at the start of the text. Search\n",
    "# should match anywhere in the text.\n",
    "\n",
    "def search(pattern, text):\n",
    "    \"Match pattern anywhere in text; return longest earliest match or None.\"\n",
    "    for i in range(len(text)):\n",
    "        m = match(pattern, text[i:])\n",
    "        if m is not None:\n",
    "            return m\n",
    "        \n",
    "def match(pattern, text):\n",
    "    \"Match pattern against start of text; return longest match found or None.\"\n",
    "    remainders = matchset(pattern, text)\n",
    "    if remainders:\n",
    "        shortest = min(remainders, key=len)\n",
    "        return text[:len(text) - len(shortest)]\n",
    "    \n",
    "def components(pattern):\n",
    "    \"Return the op, x, and y arguments; x and y are None if missing.\"\n",
    "    x = pattern[1] if len(pattern) > 1 else None\n",
    "    y = pattern[2] if len(pattern) > 2 else None\n",
    "    return pattern[0], x, y\n",
    "\n",
    "def matchset(pattern, text):\n",
    "    \"Match pattern at start of text; return a set of remainders of text.\"\n",
    "    op, x, y = components(pattern)\n",
    "    if 'lit' == op:\n",
    "        return set([text[len(x):]]) if text.startswith(x) else null\n",
    "    elif 'seq' == op:\n",
    "        return set(t2 for t1 in matchset(x, text) for t2 in matchset(y, t1))\n",
    "    elif 'alt' == op:\n",
    "        return matchset(x, text) | matchset(y, text)\n",
    "    elif 'dot' == op:\n",
    "        return set([text[1:]]) if text else null\n",
    "    elif 'oneof' == op:\n",
    "        return set([text[1:]]) if text.startswith(x) else null\n",
    "    elif 'eol' == op:\n",
    "        return set(['']) if text == '' else null\n",
    "    elif 'star' == op:\n",
    "        return (set([text]) |\n",
    "                set(t2 for t1 in matchset(x, text)\n",
    "                    for t2 in matchset(pattern, t1) if t1 != text))\n",
    "    else:\n",
    "        raise ValueError('unknown pattern: %s' % pattern)\n",
    "    \n",
    "null = frozenset()\n",
    "\n",
    "def lit(string):  return ('lit', string)\n",
    "def seq(x, y):    return ('seq', x, y)\n",
    "def alt(x, y):    return ('alt', x, y)\n",
    "def star(x):      return ('star', x)\n",
    "def plus(x):      return seq(x, star(x))\n",
    "def opt(x):       return alt(lit(''), x)\n",
    "def oneof(chars): return ('oneof', tuple(chars))\n",
    "dot = ('dot',)\n",
    "eol = ('eol',)\n",
    "\n",
    "def test():\n",
    "    assert match(('star', ('lit', 'a')),'aaabcd') == 'aaa'\n",
    "    assert match(('alt', ('lit', 'b'), ('lit', 'c')), 'ab') == None\n",
    "    assert match(('alt', ('lit', 'b'), ('lit', 'a')), 'ab') == 'a'\n",
    "    assert search(('alt', ('lit', 'b'), ('lit', 'c')), 'ab') == 'b'\n",
    "    return 'tests pass'\n",
    "\n",
    "print test()"
   ]
  },
  {
   "cell_type": "code",
   "execution_count": 1,
   "metadata": {
    "collapsed": false
   },
   "outputs": [
    {
     "name": "stdout",
     "output_type": "stream",
     "text": [
      "tests pass\n"
     ]
    }
   ],
   "source": [
    "# --------------\n",
    "# User Instructions\n",
    "#\n",
    "# Complete the code for the compiler by completing the constructor\n",
    "# for the patterns alt(x, y) and oneof(chars). \n",
    "def genseq(x, y, Ns):\n",
    "\tNss = range(max(Ns)+1)\n",
    "\treturn set(m1 + m2 for m1 in x(Nss) for m2 in y(Nss) if len(m1 + m2) in Ns)\n",
    "\n",
    "def lit(s):         return lambda Ns: set([s]) if len(s) in Ns else null\n",
    "def alt(x, y):      return lambda Ns: x(Ns)|y(Ns)\n",
    "def star(x):        return lambda Ns: opt(plus(x))(Ns)\n",
    "def plus(x):        return lambda Ns: genseq(x, star(x), Ns, startx=1) #Tricky\n",
    "## set(chars) if 1 in Ns else Null!\n",
    "def oneof(chars):   return lambda Ns: set.union(*(lit(char)(Ns) if lit(char)(Ns) != frozenset() else set() for char in chars ))\n",
    "def seq(x, y):      return lambda Ns: genseq(x, y, Ns)\n",
    "def opt(x):         return alt(epsilon, x)\n",
    "dot = oneof('?')    # You could expand the alphabet to more chars.\n",
    "epsilon = lit('')   # The pattern that matches the empty string.\n",
    "\n",
    "null = frozenset([])\n",
    "\n",
    "def test():\n",
    "    \n",
    "    f = lit('hello')\n",
    "    assert f(set([1, 2, 3, 4, 5])) == set(['hello'])\n",
    "    assert f(set([1, 2, 3, 4]))    == null \n",
    "    \n",
    "    g = alt(lit('hi'), lit('bye'))\n",
    "    assert g(set([1, 2, 3, 4, 5, 6])) == set(['bye', 'hi'])\n",
    "    assert g(set([1, 3, 5])) == set(['bye'])\n",
    "    \n",
    "    h = oneof('theseletters')\n",
    "    assert h(set([1, 2, 3])) == set(['t', 'h', 'e', 's', 'l', 'r'])\n",
    "    assert h(set([2, 3, 4])) == null\n",
    "    \n",
    "    return 'tests pass'\n",
    "print test()"
   ]
  },
  {
   "cell_type": "code",
   "execution_count": 2,
   "metadata": {
    "collapsed": false
   },
   "outputs": [
    {
     "data": {
      "text/plain": [
       "set()"
      ]
     },
     "execution_count": 2,
     "metadata": {},
     "output_type": "execute_result"
    }
   ],
   "source": [
    "chars = 'theseletters'\n",
    "Ns = set([2,3,4])\n",
    "set.union(*(lit(char)(Ns) if lit(char)(Ns) != frozenset() else set() for char in chars ))"
   ]
  },
  {
   "cell_type": "code",
   "execution_count": 75,
   "metadata": {
    "collapsed": false
   },
   "outputs": [],
   "source": [
    "# ---------------\n",
    "# User Instructions\n",
    "#\n",
    "# Write a function, n_ary(f), that takes a binary function (a function\n",
    "# that takes 2 inputs) as input and returns an n_ary function. \n",
    "\n",
    "def n_ary(f):\n",
    "    \"\"\"Given binary function f(x, y), return an n_ary function such\n",
    "    that f(x, y, z) = f(x, f(y,z)), etc. Also allow f(x) = x.\"\"\"\n",
    "    def n_ary_f(x, *args):\n",
    "        if len(args) == 0:\n",
    "            return x\n",
    "        else:\n",
    "            return f(x, n_ary_f(args[0], *args[1:])) \n",
    "    return n_ary_f"
   ]
  },
  {
   "cell_type": "code",
   "execution_count": 76,
   "metadata": {
    "collapsed": false
   },
   "outputs": [],
   "source": [
    "def sum(x,y):\n",
    "    return x+y"
   ]
  },
  {
   "cell_type": "code",
   "execution_count": 78,
   "metadata": {
    "collapsed": false
   },
   "outputs": [
    {
     "data": {
      "text/plain": [
       "25"
      ]
     },
     "execution_count": 78,
     "metadata": {},
     "output_type": "execute_result"
    }
   ],
   "source": [
    "n_ary_sum = n_ary(sum)\n",
    "n_ary_sum(3,4,5,6,7)"
   ]
  },
  {
   "cell_type": "code",
   "execution_count": 82,
   "metadata": {
    "collapsed": false
   },
   "outputs": [],
   "source": [
    "from functools import update_wrapper\n",
    "def decorator(d):\n",
    "    \"Make function d a decorator\"\n",
    "    return lambda fn: update_wrapper(d(fn), fn)"
   ]
  },
  {
   "cell_type": "code",
   "execution_count": 83,
   "metadata": {
    "collapsed": false
   },
   "outputs": [],
   "source": [
    "decorator = decorator(decorator)"
   ]
  },
  {
   "cell_type": "code",
   "execution_count": 87,
   "metadata": {
    "collapsed": false
   },
   "outputs": [
    {
     "data": {
      "text/plain": [
       "<function __main__.<lambda>>"
      ]
     },
     "execution_count": 87,
     "metadata": {},
     "output_type": "execute_result"
    }
   ],
   "source": [
    "decorator"
   ]
  },
  {
   "cell_type": "code",
   "execution_count": 94,
   "metadata": {
    "collapsed": false
   },
   "outputs": [
    {
     "name": "stdout",
     "output_type": "stream",
     "text": [
      "--> fib(6)\n",
      "   --> fib(5)\n",
      "      --> fib(4)\n",
      "         --> fib(3)\n",
      "            --> fib(2)\n",
      "               --> fib(1)\n",
      "               <-- fib(1) == 1\n",
      "               --> fib(0)\n",
      "               <-- fib(0) == 1\n",
      "            <-- fib(2) == 2\n",
      "            --> fib(1)\n",
      "            <-- fib(1) == 1\n",
      "         <-- fib(3) == 3\n",
      "         --> fib(2)\n",
      "            --> fib(1)\n",
      "            <-- fib(1) == 1\n",
      "            --> fib(0)\n",
      "            <-- fib(0) == 1\n",
      "         <-- fib(2) == 2\n",
      "      <-- fib(4) == 5\n",
      "      --> fib(3)\n",
      "         --> fib(2)\n",
      "            --> fib(1)\n",
      "            <-- fib(1) == 1\n",
      "            --> fib(0)\n",
      "            <-- fib(0) == 1\n",
      "         <-- fib(2) == 2\n",
      "         --> fib(1)\n",
      "         <-- fib(1) == 1\n",
      "      <-- fib(3) == 3\n",
      "   <-- fib(5) == 8\n",
      "   --> fib(4)\n",
      "      --> fib(3)\n",
      "         --> fib(2)\n",
      "            --> fib(1)\n",
      "            <-- fib(1) == 1\n",
      "            --> fib(0)\n",
      "            <-- fib(0) == 1\n",
      "         <-- fib(2) == 2\n",
      "         --> fib(1)\n",
      "         <-- fib(1) == 1\n",
      "      <-- fib(3) == 3\n",
      "      --> fib(2)\n",
      "         --> fib(1)\n",
      "         <-- fib(1) == 1\n",
      "         --> fib(0)\n",
      "         <-- fib(0) == 1\n",
      "      <-- fib(2) == 2\n",
      "   <-- fib(4) == 5\n",
      "<-- fib(6) == 13\n"
     ]
    },
    {
     "data": {
      "text/plain": [
       "13"
      ]
     },
     "execution_count": 94,
     "metadata": {},
     "output_type": "execute_result"
    }
   ],
   "source": [
    "# User Instructions\n",
    "#\n",
    "# Modify the function, trace, so that when it is used\n",
    "# as a decorator it gives a trace as shown in the previous\n",
    "# video. You can test your function by applying the decorator\n",
    "# to the provided fibonnaci function.\n",
    "#\n",
    "# Note: Running this in the browser's IDE will not display\n",
    "# the indentations.\n",
    "\n",
    "from functools import update_wrapper\n",
    "\n",
    "\n",
    "def decorator(d):\n",
    "    \"Make function d a decorator: d wraps a function fn.\"\n",
    "    def _d(fn):\n",
    "        return update_wrapper(d(fn), fn)\n",
    "    update_wrapper(_d, d)\n",
    "    return _d\n",
    "\n",
    "@decorator\n",
    "def trace(f):\n",
    "    indent = '   '\n",
    "    def _f(*args):\n",
    "        signature = '%s(%s)' % (f.__name__, ', '.join(map(repr, args)))\n",
    "        print '%s--> %s' % (trace.level*indent, signature)\n",
    "        trace.level += 1\n",
    "        try:\n",
    "            result = f(*args)\n",
    "            # your code here\n",
    "            print '%s<-- %s == %s' % ((trace.level-1)*indent, \n",
    "                                      signature, result)\n",
    "        finally:\n",
    "            trace.level -= 1\n",
    "            # your code here\n",
    "        return result\n",
    "    trace.level = 0\n",
    "    return _f\n",
    "\n",
    "@trace\n",
    "def fib(n):\n",
    "    if n == 0 or n == 1:\n",
    "        return 1\n",
    "    else:\n",
    "        return fib(n-1) + fib(n-2)\n",
    "\n",
    "fib(6) #running this in the browser's IDE  will not display the indentations!"
   ]
  },
  {
   "cell_type": "code",
   "execution_count": 95,
   "metadata": {
    "collapsed": true
   },
   "outputs": [],
   "source": [
    "# ---------------\n",
    "# User Instructions\n",
    "#\n",
    "# Modify the parse function so that it doesn't repeat computations.\n",
    "# You have learned about a tool in this unit that prevents \n",
    "# repetitive computations. Try using that!\n",
    "#\n",
    "# For this question, the grader will be looking for a specific \n",
    "# solution. Hint: it should only involve adding one line of code\n",
    "# (and that line should only contain 5 characters).\n",
    "\n",
    "from functools import update_wrapper\n",
    "import re\n",
    "\n",
    "def parse(start_symbol, text, grammar):\n",
    "    \"\"\"Example call: parse('Exp', '3*x + b', G).\n",
    "    Returns a (tree, remainder) pair. If remainder is '', it parsed the whole\n",
    "    string. Failure iff remainder is None. This is a deterministic PEG parser,\n",
    "    so rule order (left-to-right) matters. Do 'E => T op E | T', putting the\n",
    "    longest parse first; don't do 'E => T | T op E'\n",
    "    Also, no left recursion allowed: don't do 'E => E op T'\"\"\"\n",
    "\n",
    "    tokenizer = grammar[' '] + '(%s)'\n",
    "\n",
    "    def parse_sequence(sequence, text):\n",
    "        result = []\n",
    "        for atom in sequence:\n",
    "            tree, text = parse_atom(atom, text)\n",
    "            if text is None: return Fail\n",
    "            result.append(tree)\n",
    "        return result, text\n",
    "\n",
    "    def parse_atom(atom, text):\n",
    "        if atom in grammar:  # Non-Terminal: tuple of alternatives\n",
    "            for alternative in grammar[atom]:\n",
    "                tree, rem = parse_sequence(alternative, text)\n",
    "                if rem is not None: return [atom]+tree, rem  \n",
    "            return Fail\n",
    "        else:  # Terminal: match characters against start of text\n",
    "            m = re.match(tokenizer % atom, text)\n",
    "            return Fail if (not m) else (m.group(1), text[m.end():])\n",
    "    \n",
    "    # Body of parse:\n",
    "    return parse_atom(start_symbol, text)\n",
    "\n",
    "Fail = (None, None)\n",
    "\n",
    "# The following decorators may help you solve this question. HINT HINT!\n",
    "\n",
    "def decorator(d):\n",
    "    \"Make function d a decorator: d wraps a function fn.\"\n",
    "    def _d(fn):\n",
    "        return update_wrapper(d(fn), fn)\n",
    "    update_wrapper(_d, d)\n",
    "    return _d\n",
    "\n",
    "@decorator\n",
    "def memo(f):\n",
    "    \"\"\"Decorator that caches the return value for each call to f(args).\n",
    "    Then when called again with same args, we can just look it up.\"\"\"\n",
    "    cache = {}\n",
    "    def _f(*args):\n",
    "        try:\n",
    "            return cache[args]\n",
    "        except KeyError:\n",
    "            cache[args] = result = f(*args)\n",
    "            return result\n",
    "        except TypeError:\n",
    "            # some element of args can't be a dict key\n",
    "            return f(args)\n",
    "    return _f\n"
   ]
  },
  {
   "cell_type": "code",
   "execution_count": 74,
   "metadata": {
    "collapsed": true
   },
   "outputs": [],
   "source": [
    "# Homework problem set"
   ]
  },
  {
   "cell_type": "code",
   "execution_count": 138,
   "metadata": {
    "collapsed": false
   },
   "outputs": [
    {
     "data": {
      "text/plain": [
       "'tests pass'"
      ]
     },
     "execution_count": 138,
     "metadata": {},
     "output_type": "execute_result"
    }
   ],
   "source": [
    "# ---------------\n",
    "# User Instructions\n",
    "#\n",
    "# In this problem, you will be using many of the tools and techniques\n",
    "# that you developed in unit 3 to write a grammar that will allow\n",
    "# us to write a parser for the JSON language. \n",
    "#\n",
    "# You will have to visit json.org to see the JSON grammar. It is not \n",
    "# presented in the correct format for our grammar function, so you \n",
    "# will need to translate it.\n",
    "\n",
    "# ---------------\n",
    "# Provided functions\n",
    "#\n",
    "# These are all functions that were built in unit 3. They will help\n",
    "# you as you write the grammar.  Add your code at line 102.\n",
    "\n",
    "from functools import update_wrapper\n",
    "from string import split\n",
    "import re\n",
    "\n",
    "def grammar(description, whitespace=r'\\s*'):\n",
    "    \"\"\"Convert a description to a grammar.  Each line is a rule for a\n",
    "    non-terminal symbol; it looks like this:\n",
    "        Symbol =>  A1 A2 ... | B1 B2 ... | C1 C2 ...\n",
    "    where the right-hand side is one or more alternatives, separated by\n",
    "    the '|' sign.  Each alternative is a sequence of atoms, separated by\n",
    "    spaces.  An atom is either a symbol on some left-hand side, or it is\n",
    "    a regular expression that will be passed to re.match to match a token.\n",
    "    \n",
    "    Notation for *, +, or ? not allowed in a rule alternative (but ok\n",
    "    within a token). Use '\\' to continue long lines.  You must include spaces\n",
    "    or tabs around '=>' and '|'. That's within the grammar description itself.\n",
    "    The grammar that gets defined allows whitespace between tokens by default;\n",
    "    specify '' as the second argument to grammar() to disallow this (or supply\n",
    "    any regular expression to describe allowable whitespace between tokens).\"\"\"\n",
    "    G = {' ': whitespace}\n",
    "    description = description.replace('\\t', ' ') # no tabs!\n",
    "    for line in split(description, '\\n'):\n",
    "        lhs, rhs = split(line, ' => ', 1)\n",
    "        alternatives = split(rhs, ' | ')\n",
    "        G[lhs] = tuple(map(split, alternatives))\n",
    "    return G\n",
    "\n",
    "def decorator(d):\n",
    "    \"Make function d a decorator: d wraps a function fn.\"\n",
    "    def _d(fn):\n",
    "        return update_wrapper(d(fn), fn)\n",
    "    update_wrapper(_d, d)\n",
    "    return _d\n",
    "\n",
    "@decorator\n",
    "def memo(f):\n",
    "    \"\"\"Decorator that caches the return value for each call to f(args).\n",
    "    Then when called again with same args, we can just look it up.\"\"\"\n",
    "    cache = {}\n",
    "    def _f(*args):\n",
    "        try:\n",
    "            return cache[args]\n",
    "        except KeyError:\n",
    "            cache[args] = result = f(*args)\n",
    "            return result\n",
    "        except TypeError:\n",
    "            # some element of args can't be a dict key\n",
    "            return f(args)\n",
    "    return _f\n",
    "\n",
    "def parse(start_symbol, text, grammar):\n",
    "    \"\"\"Example call: parse('Exp', '3*x + b', G).\n",
    "    Returns a (tree, remainder) pair. If remainder is '', it parsed the whole\n",
    "    string. Failure iff remainder is None. This is a deterministic PEG parser,\n",
    "    so rule order (left-to-right) matters. Do 'E => T op E | T', putting the\n",
    "    longest parse first; don't do 'E => T | T op E'\n",
    "    Also, no left recursion allowed: don't do 'E => E op T'\"\"\"\n",
    "\n",
    "    tokenizer = grammar[' '] + '(%s)'\n",
    "\n",
    "    def parse_sequence(sequence, text):\n",
    "        result = []\n",
    "        for atom in sequence:\n",
    "            tree, text = parse_atom(atom, text)\n",
    "            if text is None: return Fail\n",
    "            result.append(tree)\n",
    "        return result, text\n",
    "\n",
    "    @memo\n",
    "    def parse_atom(atom, text):\n",
    "        if atom in grammar:  # Non-Terminal: tuple of alternatives\n",
    "            for alternative in grammar[atom]:\n",
    "                tree, rem = parse_sequence(alternative, text)\n",
    "                if rem is not None: return [atom]+tree, rem  \n",
    "            return Fail\n",
    "        else:  # Terminal: match characters against start of text\n",
    "            m = re.match(tokenizer % atom, text)\n",
    "            return Fail if (not m) else (m.group(1), text[m.end():])\n",
    "    \n",
    "    # Body of parse:\n",
    "    return parse_atom(start_symbol, text)\n",
    "\n",
    "Fail = (None, None)\n",
    "\n",
    "JSON = grammar(r\"\"\"\\\n",
    "object => { } | { members }\n",
    "members => pair , members | pair\n",
    "pair => string : value\n",
    "array => [[] []] | [[] elements []]\n",
    "elements =>  value , elements | value\n",
    "value => string | number | object | array | true | false | null\n",
    "string => \"[^\"]*\"\n",
    "number => int frac exp | int frac | int exp | int\n",
    "int => -?[1-9][0-9]*\n",
    "frac => [.][0-9]+\n",
    "exp => [eE][-+]?[0-9]+\n",
    "e => [eE]\"\"\", whitespace='\\s*')\n",
    "\n",
    "def verify(G):\n",
    "    lhstokens = set(G) - set([' '])\n",
    "    print(G.values())\n",
    "    rhstokens = set(t for alts in G.values() for alt in alts for t in alt)\n",
    "    def show(title, tokens): print title, '=', ' '.join(map(repr, sorted(tokens)))\n",
    "    show('Non-Terms', G)\n",
    "    show('Terminals', rhstokens - lhstokens)\n",
    "    show('Suspects', [t for t in (rhstokens-lhstokens) if t.isalnum()])\n",
    "    show('Orphans ', lhstokens-rhstokens)\n",
    "\n",
    "def json_parse(text):\n",
    "    return parse('value', text, JSON)\n",
    "\n",
    "def test():\n",
    "    assert json_parse('[\"testing\", 1, 2, 3]') == (                      \n",
    "                       ['value', ['array', '[', ['elements', ['value', \n",
    "                       ['string', '\"testing\"']], ',', ['elements', ['value', ['number', \n",
    "                       ['int', '1']]], ',', ['elements', ['value', ['number', \n",
    "                       ['int', '2']]], ',', ['elements', ['value', ['number', \n",
    "                       ['int', '3']]]]]]], ']']], '')\n",
    "   \n",
    "    return 'tests pass'\n",
    "\n",
    "test()"
   ]
  },
  {
   "cell_type": "code",
   "execution_count": null,
   "metadata": {
    "collapsed": false
   },
   "outputs": [],
   "source": []
  },
  {
   "cell_type": "code",
   "execution_count": null,
   "metadata": {
    "collapsed": true
   },
   "outputs": [],
   "source": []
  },
  {
   "cell_type": "code",
   "execution_count": 27,
   "metadata": {
    "collapsed": false
   },
   "outputs": [
    {
     "name": "stdout",
     "output_type": "stream",
     "text": [
      "31622.7766017\n"
     ]
    }
   ],
   "source": [
    "# --------------\n",
    "# User Instructions\n",
    "#\n",
    "# Write a function, inverse, which takes as input a monotonically\n",
    "# increasing (always increasing) function that is defined on the \n",
    "# non-negative numbers. The runtime of your program should be \n",
    "# proportional to the LOGARITHM of the input. You may want to \n",
    "# do some research into binary search and Newton's method to \n",
    "# help you out.\n",
    "#\n",
    "# This function should return another function which computes the\n",
    "# inverse of the input function. \n",
    "#\n",
    "# Your inverse function should also take an optional parameter, \n",
    "# delta, as input so that the computed value of the inverse will\n",
    "# be within delta of the true value.\n",
    "\n",
    "# -------------\n",
    "# Grading Notes\n",
    "#\n",
    "# Your function will be called with three test cases. The \n",
    "# input numbers will be large enough that your submission\n",
    "# will only terminate in the allotted time if it is \n",
    "# efficient enough. \n",
    "\n",
    "def slow_inverse(f, delta=1/128.):\n",
    "    \"\"\"Given a function y = f(x) that is a monotonically increasing function on\n",
    "    non-negatve numbers, return the function x = f_1(y) that is an approximate\n",
    "    inverse, picking the closest value to the inverse, within delta.\"\"\"\n",
    "    def f_1(y):\n",
    "        x = 0\n",
    "        while f(x) < y:\n",
    "            x += delta\n",
    "        # Now x is too big, x-delta is too small; pick the closest to y\n",
    "        return x if (f(x)-y < y-f(x-delta)) else x-delta\n",
    "    return f_1 \n",
    "\n",
    "def my_inverse(f, delta = 1/1024.):\n",
    "    \"\"\"Given a function y = f(x) that is a monotonically increasing function on\n",
    "    non-negatve numbers, return the function x = f_1(y) that is an approximate\n",
    "    inverse, picking the closest value to the inverse, within delta.\"\"\"\n",
    "    def f_1(y):\n",
    "        left = 0\n",
    "        right = y\n",
    "        while (f(right) < y):\n",
    "            right  = right*2\n",
    "        mid = (left + right)/2.\n",
    "        while abs(f(mid) - y) > delta:\n",
    "            if f(mid) - y > delta:\n",
    "                right = mid\n",
    "            else:\n",
    "                left = mid\n",
    "            mid = (left + right)/2.\n",
    "        x = mid\n",
    "        diff = abs(f(mid) - y)\n",
    "        if abs(f(mid - delta) - y) < diff:\n",
    "            x = mid - delta\n",
    "        elif abs(f(mid + delta) - y) < diff:\n",
    "            x = mid + delta\n",
    "        return x\n",
    "    return f_1\n",
    "\n",
    "# Instructor's approach\n",
    "def find_bounds(f, y, delta):\n",
    "    x = 0\n",
    "    step = delta\n",
    "    while f(x) < y:\n",
    "        x = x + step\n",
    "        step = step * 2\n",
    "    lo, hi = x - (step/2.), x\n",
    "    return lo, hi\n",
    "\n",
    "def better_inverse(f, delta = 1/1024.):\n",
    "    def f_1(y):\n",
    "        left, right = find_bounds(f, y, delta)\n",
    "        mid = (left + right)/2.\n",
    "        while abs(f(mid) - y) > delta:\n",
    "            if f(mid) - y > delta:\n",
    "                right = mid\n",
    "            else:\n",
    "                left = mid\n",
    "            mid = (left + right)/2.\n",
    "        return mid\n",
    "    return f_1\n",
    "        \n",
    "    \n",
    "def square(x): return x*x\n",
    "sqrt = slow_inverse(square)\n",
    "sqrt1 = better_inverse(square)\n",
    "#print sqrt(1000000000)\n",
    "print sqrt1(1000000000)\n"
   ]
  },
  {
   "cell_type": "code",
   "execution_count": 16,
   "metadata": {
    "collapsed": false
   },
   "outputs": [
    {
     "data": {
      "text/plain": [
       "0.0078125"
      ]
     },
     "execution_count": 16,
     "metadata": {},
     "output_type": "execute_result"
    }
   ],
   "source": [
    "1/128."
   ]
  },
  {
   "cell_type": "code",
   "execution_count": null,
   "metadata": {
    "collapsed": true
   },
   "outputs": [],
   "source": []
  },
  {
   "cell_type": "code",
   "execution_count": 3,
   "metadata": {
    "collapsed": false
   },
   "outputs": [
    {
     "name": "stdout",
     "output_type": "stream",
     "text": [
      "['<a href=\"www.udacity.com\">', '<b>', '<a href=\"www.udacity.com\"target=\"_blank\">']\n",
      "['<         b           >']\n",
      "tests pass\n"
     ]
    }
   ],
   "source": [
    "# ---------------\n",
    "# User Instructions\n",
    "#\n",
    "# Write a function, findtags(text), that takes a string of text\n",
    "# as input and returns a list of all the html start tags in the \n",
    "# text. It may be helpful to use regular expressions to solve\n",
    "# this problem.\n",
    "\n",
    "import re\n",
    "\n",
    "def findtags(text):\n",
    "    #Wrong variant\n",
    "    params = '(\\w+\\s*=\\s*\"[^\"]*\"\\s*)*'\n",
    "    #Right variant\n",
    "    params = '(?:\\w+\\s*=\\s*\"[^\"]*\"\\s*)*'\n",
    "    \n",
    "    tags = '(<\\s*\\w+\\s*' + params+ '\\s*/?>)'\n",
    "    return re.findall(tags, text)\n",
    "\n",
    "testtext1 = \"\"\"\n",
    "My favorite website in the world is probably \n",
    "<a href=\"www.udacity.com\">Udacity</a>. If you want \n",
    "that link to open in a <b>new tab</b> by default, you should\n",
    "write <a href=\"www.udacity.com\"target=\"_blank\">Udacity</a>\n",
    "instead!\n",
    "\"\"\"\n",
    "\n",
    "testtext2 = \"\"\"\n",
    "Okay, so you passed the first test case. <let's see> how you \n",
    "handle this one. Did you know that 2 < 3 should return True? \n",
    "So should 3 > 2. But 2 > 3 is always False.\n",
    "\"\"\"\n",
    "\n",
    "testtext3 = \"\"\"\n",
    "It's not common, but we can put a LOT of whitespace into \n",
    "our HTML tags. For example, we can make something bold by\n",
    "doing <         b           > this <   /b    >, Though I \n",
    "don't know why you would ever want to.\n",
    "\"\"\"\n",
    "\n",
    "def test():\n",
    "    print findtags(testtext1)\n",
    "    print findtags(testtext3)\n",
    "    assert findtags(testtext1) == ['<a href=\"www.udacity.com\">', \n",
    "                                   '<b>', \n",
    "                                   '<a href=\"www.udacity.com\"target=\"_blank\">']\n",
    "    assert findtags(testtext2) == []\n",
    "    \n",
    "    assert findtags(testtext3) == ['<         b           >']\n",
    "    return 'tests pass'\n",
    "\n",
    "print test()"
   ]
  },
  {
   "cell_type": "code",
   "execution_count": 35,
   "metadata": {
    "collapsed": true
   },
   "outputs": [],
   "source": [
    "##Some exmaples of REs"
   ]
  },
  {
   "cell_type": "code",
   "execution_count": 38,
   "metadata": {
    "collapsed": false
   },
   "outputs": [
    {
     "name": "stdout",
     "output_type": "stream",
     "text": [
      "abcd\n",
      "abc\n",
      "b\n"
     ]
    }
   ],
   "source": [
    "#Groups and nested groups:\n",
    "p = re.compile('(a(b)c)d')\n",
    "m = p.match('abcd')\n",
    "print m.group(0)\n",
    "print m.group(1)\n",
    "print m.group(2)"
   ]
  },
  {
   "cell_type": "code",
   "execution_count": 39,
   "metadata": {
    "collapsed": false
   },
   "outputs": [
    {
     "data": {
      "text/plain": [
       "('abc', 'b')"
      ]
     },
     "execution_count": 39,
     "metadata": {},
     "output_type": "execute_result"
    }
   ],
   "source": [
    "m.groups()"
   ]
  },
  {
   "cell_type": "code",
   "execution_count": 41,
   "metadata": {
    "collapsed": false
   },
   "outputs": [
    {
     "data": {
      "text/plain": [
       "'the the'"
      ]
     },
     "execution_count": 41,
     "metadata": {},
     "output_type": "execute_result"
    }
   ],
   "source": [
    "# The following RE detects doubled words in a string. \\1 - indicates 1st group (\\b\\w+)\n",
    "p = re.compile(r'(\\b\\w+)\\s+\\1')\n",
    "p.search('Paris in the the spring').group()"
   ]
  },
  {
   "cell_type": "code",
   "execution_count": 43,
   "metadata": {
    "collapsed": false
   },
   "outputs": [
    {
     "name": "stdout",
     "output_type": "stream",
     "text": [
      "('c',)\n",
      "()\n"
     ]
    }
   ],
   "source": [
    "# Non-capturing and named groups\n",
    "# Sometimes you’ll want to use a group to collect a part of a regular expression, \n",
    "# but aren’t interested in retrieving the group’s contents. \n",
    "# You can make this fact explicit by using a non-capturing group: (?:...), \n",
    "# where you can replace the ... with any other regular expression.\n",
    "m = re.match(\"([abc])+\", \"abc\")\n",
    "print m.groups()\n",
    "m = re.match(\"(?:[abc])+\", \"abc\")\n",
    "print m.groups()"
   ]
  },
  {
   "cell_type": "code",
   "execution_count": 45,
   "metadata": {
    "collapsed": true
   },
   "outputs": [],
   "source": [
    "# Back to find tags:\n",
    "# Wrong variant\n",
    "params = '(\\w+\\s*=\\s*\"[^\"]*\"\\s*)*'\n",
    "#Right variant\n",
    "params = '(?:\\w+\\s*=\\s*\"[^\"]*\"\\s*)*'\n",
    "# We need to make params  (?:...) - non-capturing group in order for findall \n",
    "# to depict only the whole tag and not params alone"
   ]
  },
  {
   "cell_type": "code",
   "execution_count": 48,
   "metadata": {
    "collapsed": false
   },
   "outputs": [
    {
     "name": "stdout",
     "output_type": "stream",
     "text": [
      "Lots\n",
      "Lots\n"
     ]
    }
   ],
   "source": [
    "# Named groups\n",
    "p = re.compile(r'(?P<word>\\b\\w+\\b)')\n",
    "m = p.search( '(((( Lots of punctuation )))' )\n",
    "print m.group('word')\n",
    "print m.group(1)"
   ]
  },
  {
   "cell_type": "code",
   "execution_count": 50,
   "metadata": {
    "collapsed": false
   },
   "outputs": [
    {
     "data": {
      "text/plain": [
       "'the the'"
      ]
     },
     "execution_count": 50,
     "metadata": {},
     "output_type": "execute_result"
    }
   ],
   "source": [
    "# Backreference\n",
    "p = re.compile(r'(?P<word>\\b\\w+)\\s+(?P=word)')\n",
    "p.search('Paris in the the spring').group()"
   ]
  },
  {
   "cell_type": "code",
   "execution_count": 58,
   "metadata": {
    "collapsed": false
   },
   "outputs": [
    {
     "name": "stdout",
     "output_type": "stream",
     "text": [
      "newc.rc\n",
      "None\n",
      "autoexec.batch\n"
     ]
    }
   ],
   "source": [
    "# Lookahead assertions\n",
    "# Consider a simple pattern to match a filename and split it apart into a base name and an extension, \n",
    "# separated by a .. For example, in news.rc, news is the base name, and rc is the filename’s extension.\n",
    "# The pattern to match this is quite simple: \n",
    "# .*[.].*$\n",
    "# What if you want to match filenames where the extension is not bat?\n",
    "# Use negative lookahead!\n",
    "p = re.compile('.*[.](?!bat$).*$')\n",
    "print p.match('newc.rc').group()\n",
    "print p.match('autoexec.bat')\n",
    "print p.match('autoexec.batch').group()\n",
    "# The negative lookahead means: if the expression bat doesn’t match at this point, try the rest of the pattern; \n",
    "# if bat$ does match, the whole pattern will fail. \n",
    "# The trailing $ is required to ensure that something like sample.batch, \n",
    "# where the extension only starts with bat, will be allowed."
   ]
  },
  {
   "cell_type": "code",
   "execution_count": 59,
   "metadata": {
    "collapsed": false
   },
   "outputs": [
    {
     "data": {
      "text/plain": [
       "['This', 'is', 'a', 'test', 'short', 'and', 'sweet', 'of', 'split', '']"
      ]
     },
     "execution_count": 59,
     "metadata": {},
     "output_type": "execute_result"
    }
   ],
   "source": [
    "# Modifying strings\n",
    "p = re.compile(r'\\W+')\n",
    "p.split('This is a test, short and sweet, of split().')"
   ]
  },
  {
   "cell_type": "code",
   "execution_count": 60,
   "metadata": {
    "collapsed": false
   },
   "outputs": [
    {
     "data": {
      "text/plain": [
       "['This', 'is', 'a', 'test, short and sweet, of split().']"
      ]
     },
     "execution_count": 60,
     "metadata": {},
     "output_type": "execute_result"
    }
   ],
   "source": [
    "p.split('This is a test, short and sweet, of split().', 3)"
   ]
  },
  {
   "cell_type": "code",
   "execution_count": 63,
   "metadata": {
    "collapsed": false
   },
   "outputs": [
    {
     "name": "stdout",
     "output_type": "stream",
     "text": [
      "['This', 'is', 'a', 'test', '']\n",
      "['This', '... ', 'is', ' ', 'a', ' ', 'test', '.', '']\n"
     ]
    }
   ],
   "source": [
    "# Split\n",
    "\n",
    "# Sometimes you’re not only interested in what the text between delimiters is, \n",
    "# but also need to know what the delimiter was. \n",
    "# If capturing parentheses are used in the RE, \n",
    "# then their values are also returned as part of the list. Compare the following calls:\n",
    "p = re.compile(r'\\W+')\n",
    "p2  = re.compile(r'(\\W+)')\n",
    "print p.split('This... is a test.')\n",
    "print p2.split('This... is a test.')"
   ]
  },
  {
   "cell_type": "code",
   "execution_count": 73,
   "metadata": {
    "collapsed": false
   },
   "outputs": [
    {
     "name": "stdout",
     "output_type": "stream",
     "text": [
      "Greedy:\n",
      "(0, 32)\n",
      "<html><head><title>Title</title>\n",
      "Non-greedy\n",
      "<html>\n"
     ]
    }
   ],
   "source": [
    "# Greedy vs Non-greedy\n",
    "s = '<html><head><title>Title</title>'\n",
    "print 'Greedy:'\n",
    "print re.match('<.*>', s).span()\n",
    "print re.match('<.*>', s).group()\n",
    "print 'Non-greedy'\n",
    "# The solution is to use the non-greedy qualifiers *?, +?, ??, or {m,n}?, which match as little text as possible\n",
    "print re.match('<.*?>', s).group()"
   ]
  },
  {
   "cell_type": "code",
   "execution_count": 65,
   "metadata": {
    "collapsed": true
   },
   "outputs": [],
   "source": [
    "# For more:\n",
    "# https://docs.python.org/2/howto/regex.html#regex-howto"
   ]
  },
  {
   "cell_type": "code",
   "execution_count": null,
   "metadata": {
    "collapsed": true
   },
   "outputs": [],
   "source": []
  },
  {
   "cell_type": "code",
   "execution_count": null,
   "metadata": {
    "collapsed": true
   },
   "outputs": [],
   "source": [
    "# Unit 3 Homework problem # 4: parse/convert regular expression to API\n",
    "REGRAMMAR = grammar(\"\"\"\n",
    "RE => ## your description here\n",
    "\"\"\", whitespace='')\n",
    "def parse_re(pattern):\n",
    "    return convert(parse('RE', pattern, REGRAMMAR))\n",
    "\n",
    "def convert(tree):\n",
    "    ## your code here\n"
   ]
  }
 ],
 "metadata": {
  "kernelspec": {
   "display_name": "Python 2",
   "language": "python",
   "name": "python2"
  },
  "language_info": {
   "codemirror_mode": {
    "name": "ipython",
    "version": 2
   },
   "file_extension": ".py",
   "mimetype": "text/x-python",
   "name": "python",
   "nbconvert_exporter": "python",
   "pygments_lexer": "ipython2",
   "version": "2.7.10"
  }
 },
 "nbformat": 4,
 "nbformat_minor": 0
}
