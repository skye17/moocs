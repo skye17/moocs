{
 "cells": [
  {
   "cell_type": "code",
   "execution_count": 1,
   "metadata": {
    "collapsed": false
   },
   "outputs": [
    {
     "ename": "TypeError",
     "evalue": "range() integer end argument expected, got str.",
     "output_type": "error",
     "traceback": [
      "\u001b[1;31m---------------------------------------------------------------------------\u001b[0m",
      "\u001b[1;31mTypeError\u001b[0m                                 Traceback (most recent call last)",
      "\u001b[1;32m<ipython-input-1-b4414ef28916>\u001b[0m in \u001b[0;36m<module>\u001b[1;34m()\u001b[0m\n\u001b[1;32m----> 1\u001b[1;33m \u001b[0mrange\u001b[0m\u001b[1;33m(\u001b[0m\u001b[1;34m'A'\u001b[0m\u001b[1;33m,\u001b[0m \u001b[1;34m'Z'\u001b[0m\u001b[1;33m)\u001b[0m\u001b[1;33m\u001b[0m\u001b[0m\n\u001b[0m",
      "\u001b[1;31mTypeError\u001b[0m: range() integer end argument expected, got str."
     ]
    }
   ],
   "source": [
    "range('A', 'Z')"
   ]
  },
  {
   "cell_type": "code",
   "execution_count": 2,
   "metadata": {
    "collapsed": false
   },
   "outputs": [
    {
     "data": {
      "text/plain": [
       "'ABCDEFGHIJKLMNOPQRSTUVWXYZ'"
      ]
     },
     "execution_count": 2,
     "metadata": {},
     "output_type": "execute_result"
    }
   ],
   "source": [
    "import string\n",
    "string.uppercase"
   ]
  },
  {
   "cell_type": "code",
   "execution_count": 3,
   "metadata": {
    "collapsed": false
   },
   "outputs": [
    {
     "ename": "AttributeError",
     "evalue": "'module' object has no attribute 'isupper'",
     "output_type": "error",
     "traceback": [
      "\u001b[1;31m---------------------------------------------------------------------------\u001b[0m",
      "\u001b[1;31mAttributeError\u001b[0m                            Traceback (most recent call last)",
      "\u001b[1;32m<ipython-input-3-c072900bc31a>\u001b[0m in \u001b[0;36m<module>\u001b[1;34m()\u001b[0m\n\u001b[0;32m      1\u001b[0m \u001b[0mstt\u001b[0m \u001b[1;33m=\u001b[0m  \u001b[1;34m'ODD + ODD == EVEN'\u001b[0m\u001b[1;33m\u001b[0m\u001b[0m\n\u001b[1;32m----> 2\u001b[1;33m \u001b[1;34m''\u001b[0m\u001b[1;33m.\u001b[0m\u001b[0mjoin\u001b[0m\u001b[1;33m(\u001b[0m\u001b[0mset\u001b[0m\u001b[1;33m(\u001b[0m\u001b[0mfilter\u001b[0m\u001b[1;33m(\u001b[0m\u001b[0mstring\u001b[0m\u001b[1;33m.\u001b[0m\u001b[0misupper\u001b[0m\u001b[1;33m,\u001b[0m \u001b[0mstt\u001b[0m\u001b[1;33m)\u001b[0m\u001b[1;33m)\u001b[0m\u001b[1;33m)\u001b[0m\u001b[1;33m\u001b[0m\u001b[0m\n\u001b[0m",
      "\u001b[1;31mAttributeError\u001b[0m: 'module' object has no attribute 'isupper'"
     ]
    }
   ],
   "source": [
    "stt =  'ODD + ODD == EVEN'\n",
    "''.join(set(filter(string.isupper, stt)))"
   ]
  },
  {
   "cell_type": "code",
   "execution_count": 4,
   "metadata": {
    "collapsed": false
   },
   "outputs": [
    {
     "name": "stdout",
     "output_type": "stream",
     "text": [
      "(1*U+10*O+100*Y)\n"
     ]
    }
   ],
   "source": [
    "def compile_word(word):\n",
    "    \"\"\"Compile a word of uppercase letters as numeric digits.\n",
    "    E.g., compile_word('YOU') => '(1*U+10*O+100*Y)'\n",
    "    Non-uppercase words unchanged: compile_word('+') => '+'\"\"\"\n",
    "    # Your code here.\n",
    "    if not word.isupper():\n",
    "        return word\n",
    "    else:\n",
    "        l = [str(10**i) + '*'+ word[len(word)-i-1] for i in xrange(len(word))]\n",
    "        return '('+ '+'.join(l)+')'\n",
    "print compile_word('YOU')"
   ]
  },
  {
   "cell_type": "code",
   "execution_count": 5,
   "metadata": {
    "collapsed": false
   },
   "outputs": [
    {
     "data": {
      "text/plain": [
       "'tests pass'"
      ]
     },
     "execution_count": 5,
     "metadata": {},
     "output_type": "execute_result"
    }
   ],
   "source": [
    "\n",
    "import re\n",
    "import itertools\n",
    "import string\n",
    "\n",
    "def compile_formula(formula, verbose=False):\n",
    "    \"\"\"Compile formula into a function. Also return letters found, as a str,\n",
    "    in same order as parms of function. The first digit of a multi-digit \n",
    "    number can't be 0. So if YOU is a word in the formula, and the function\n",
    "    is called with Y eqal to 0, the function should return False.\"\"\"\n",
    "    \n",
    "    # modify the code in this function.\n",
    "    \n",
    "    letters = ''.join(set(re.findall('[A-Z]', formula)))\n",
    "    parms = ', '.join(letters)\n",
    "    words = re.split('([A-Z]+)', formula)\n",
    "    constraints = []\n",
    "    for w in words:\n",
    "        if (w.isupper()) and (len(w)>=2):\n",
    "            constraints.append(('%s!=0 and ' % (w[0])))\n",
    "    tokens = map(compile_word, words)\n",
    "    body = ''.join(tokens)\n",
    "    f = 'lambda %s: %s %s' % (parms, ' '.join(constraints), body)\n",
    "   \n",
    "    if verbose: print f\n",
    "    return eval(f), letters\n",
    "\n",
    "def compile_word(word):\n",
    "    \"\"\"Compile a word of uppercase letters as numeric digits.\n",
    "    E.g., compile_word('YOU') => '(1*U+10*O+100*Y)'\n",
    "    Non-uppercase words uncahanged: compile_word('+') => '+'\"\"\"\n",
    "    if word.isupper():\n",
    "        terms = [('%s*%s' % (10**i, d)) \n",
    "                 for (i, d) in enumerate(word[::-1])]\n",
    "        return '(' + '+'.join(terms) + ')'\n",
    "    else:\n",
    "        return word\n",
    "    \n",
    "def faster_solve(formula):\n",
    "    \"\"\"Given a formula like 'ODD + ODD == EVEN', fill in digits to solve it.\n",
    "    Input formula is a string; output is a digit-filled-in string or None.\n",
    "    This version precompiles the formula; only one eval per formula.\"\"\"\n",
    "    f, letters = compile_formula(formula)\n",
    "    for digits in itertools.permutations((1,2,3,4,5,6,7,8,9,0), len(letters)):\n",
    "        try:\n",
    "            if f(*digits) is True:\n",
    "                table = string.maketrans(letters, ''.join(map(str, digits)))\n",
    "                return formula.translate(table)\n",
    "        except ArithmeticError:\n",
    "            pass\n",
    "\n",
    "def test():\n",
    "    assert faster_solve('A + B == BA') == None # should NOT return '1 + 0 == 01'\n",
    "    assert faster_solve('YOU == ME**2') == ('289 == 17**2' or '576 == 24**2' or '841 == 29**2')\n",
    "    assert faster_solve('X / X == X') == '1 / 1 == 1'\n",
    "    return 'tests pass'\n",
    "test()"
   ]
  },
  {
   "cell_type": "code",
   "execution_count": 6,
   "metadata": {
    "collapsed": false
   },
   "outputs": [
    {
     "data": {
      "text/plain": [
       "[1, 5]"
      ]
     },
     "execution_count": 6,
     "metadata": {},
     "output_type": "execute_result"
    }
   ],
   "source": [
    "[1,5]"
   ]
  },
  {
   "cell_type": "code",
   "execution_count": 7,
   "metadata": {
    "collapsed": true
   },
   "outputs": [],
   "source": [
    "#------------------\n",
    "# User Instructions\n",
    "#\n",
    "# Hopper, Kay, Liskov, Perlis, and Ritchie live on \n",
    "# different floors of a five-floor apartment building. \n",
    "#\n",
    "# Hopper does not live on the top floor. \n",
    "# Kay does not live on the bottom floor. \n",
    "# Liskov does not live on either the top or the bottom floor. \n",
    "# Perlis lives on a higher floor than does Kay. \n",
    "# Ritchie does not live on a floor adjacent to Liskov's. \n",
    "# Liskov does not live on a floor adjacent to Kay's. \n",
    "# \n",
    "# Where does everyone live?  \n",
    "# \n",
    "# Write a function floor_puzzle() that returns a list of\n",
    "# five floor numbers denoting the floor of Hopper, Kay, \n",
    "# Liskov, Perlis, and Ritchie.\n",
    "\n",
    "import itertools\n",
    "\n",
    "def adjacent_floors(floor1, floor2):\n",
    "    return abs(floor1 - floor2) == 1\n",
    "\n",
    "def floor_puzzle():\n",
    "    # Your code here\n",
    "    g = ([Hopper, Kay, Liskov, Perlis, Ritchie] \n",
    "         for (Hopper, Kay, Liskov, Perlis, Ritchie) in itertools.permutations(range(1,6))\n",
    "         if Liskov not in [1, 5]\n",
    "         if Hopper != 5\n",
    "         if Kay != 1\n",
    "         if Perlis - Kay >= 0\n",
    "         if not adjacent_floors(Ritchie, Liskov)\n",
    "         if not adjacent_floors(Liskov, Kay))\n",
    "    return next(g)"
   ]
  },
  {
   "cell_type": "code",
   "execution_count": 8,
   "metadata": {
    "collapsed": false
   },
   "outputs": [
    {
     "data": {
      "text/plain": [
       "[3, 2, 4, 5, 1]"
      ]
     },
     "execution_count": 8,
     "metadata": {},
     "output_type": "execute_result"
    }
   ],
   "source": [
    "floor_puzzle()"
   ]
  },
  {
   "cell_type": "code",
   "execution_count": 43,
   "metadata": {
    "collapsed": false
   },
   "outputs": [],
   "source": [
    "# --------------\n",
    "# User Instructions\n",
    "#\n",
    "# Write a function, longest_subpalindrome_slice(text) that takes \n",
    "# a string as input and returns the i and j indices that \n",
    "# correspond to the beginning and end indices of the longest \n",
    "# palindrome in the string. \n",
    "#\n",
    "# Grading Notes:\n",
    "# \n",
    "# You will only be marked correct if your function runs \n",
    "# efficiently enough. We will be measuring efficency by counting\n",
    "# the number of times you access each string. That count must be\n",
    "# below a certain threshold to be marked correct.\n",
    "#\n",
    "# Please do not use regular expressions to solve this quiz!\n",
    "\n",
    "\n",
    "##Can optimize by starting with the middle of the word, less checks may be needed\n",
    "def expand(text, i, j):\n",
    "    n = len(text)\n",
    "    start, end = i-1,j+1\n",
    "    while (start >= 0) and (end < n):\n",
    "        if text[start] == text[end]:\n",
    "            start = start - 1\n",
    "            end = end + 1\n",
    "        else:\n",
    "            break\n",
    "    #return endpoints and length of longest palindrome for this diagonal\n",
    "    left = start+1\n",
    "    right = end\n",
    "    return left, right,(right - left) \n",
    "\n",
    "def longest_subpalindrome_slice(text):\n",
    "    \"Return (i, j) such that text[i:j] is the longest palindrome in text.\"\n",
    "    n = len(text)\n",
    "    if n in [0, 1]:\n",
    "        return (0, len(text))\n",
    "    text_lower = text.lower()\n",
    "    start = -1;\n",
    "    end = -1;\n",
    "    max_length = 0;\n",
    "    for i in range(1,n):\n",
    "        now_start, now_end, now_length = expand(text_lower, i, i)\n",
    "        if (i + 1 < n) and (text[i] == text[i+1]):\n",
    "            now_start1, now_end1, now_length1 = expand(text_lower, i, i+1)\n",
    "            if (now_length1 > now_length):\n",
    "                now_start = now_start1\n",
    "                now_end = now_end1\n",
    "                now_length = now_length1\n",
    "        if now_length >= max_length:\n",
    "            start = now_start\n",
    "            end = now_end\n",
    "            max_length = now_length \n",
    "    \n",
    "    return (start, end)\n",
    "    \n",
    "def test():\n",
    "    L = longest_subpalindrome_slice\n",
    "    assert L('racecar') == (0, 7)\n",
    "    assert L('Racecar') == (0, 7)\n",
    "    assert L('RacecarX') == (0, 7)\n",
    "    assert L('Race carr') == (7, 9)\n",
    "    assert L('') == (0, 0)\n",
    "    assert L('something rac e car going') == (8,21)\n",
    "    assert L('xxxxx') == (0, 5)\n",
    "    assert L('Mad am I ma dam.') == (0, 15)\n",
    "    return 'tests pass'"
   ]
  },
  {
   "cell_type": "code",
   "execution_count": 44,
   "metadata": {
    "collapsed": false
   },
   "outputs": [
    {
     "data": {
      "text/plain": [
       "'tests pass'"
      ]
     },
     "execution_count": 44,
     "metadata": {},
     "output_type": "execute_result"
    }
   ],
   "source": [
    "test()"
   ]
  },
  {
   "cell_type": "code",
   "execution_count": 42,
   "metadata": {
    "collapsed": false
   },
   "outputs": [],
   "source": []
  },
  {
   "cell_type": "code",
   "execution_count": null,
   "metadata": {
    "collapsed": true
   },
   "outputs": [],
   "source": []
  }
 ],
 "metadata": {
  "kernelspec": {
   "display_name": "Python 2",
   "language": "python",
   "name": "python2"
  },
  "language_info": {
   "codemirror_mode": {
    "name": "ipython",
    "version": 2
   },
   "file_extension": ".py",
   "mimetype": "text/x-python",
   "name": "python",
   "nbconvert_exporter": "python",
   "pygments_lexer": "ipython2",
   "version": "2.7.10"
  }
 },
 "nbformat": 4,
 "nbformat_minor": 0
}
