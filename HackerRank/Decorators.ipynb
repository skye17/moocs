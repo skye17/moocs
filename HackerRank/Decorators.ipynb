{
 "cells": [
  {
   "cell_type": "code",
   "execution_count": 4,
   "metadata": {
    "collapsed": false
   },
   "outputs": [
    {
     "name": "stdout",
     "output_type": "stream",
     "text": [
      "3\n",
      "09191919191\n",
      "9100256236\n",
      "+919593621456\n",
      "+91 91002 56236\n",
      "+91 91919 19191\n",
      "+91 95936 21456\n"
     ]
    }
   ],
   "source": [
    "#1\n",
    "def formatter(func):\n",
    "    def inner(numbers):\n",
    "        sorted_numbers = func(numbers)\n",
    "        return ['+91 '+ number[-10:-5] + ' '+ number[-5:] for number in sorted_numbers]\n",
    "    return inner\n",
    "\n",
    "@formatter\n",
    "def sort(numbers):\n",
    "    return sorted((number[-10:] for number in numbers))\n",
    "\n",
    "N = int(raw_input())\n",
    "numbers = (raw_input() for i in xrange(N))\n",
    "\n",
    "for num in sort(numbers):\n",
    "    print num"
   ]
  },
  {
   "cell_type": "code",
   "execution_count": 6,
   "metadata": {
    "collapsed": false
   },
   "outputs": [
    {
     "name": "stdout",
     "output_type": "stream",
     "text": [
      "3\n",
      "Mike Thomson 20 M\n",
      "Robert Bustle 32 M\n",
      "Andria Bustle 30 F\n",
      "Mr.  Mike Thomson\n",
      "Ms.  Andria Bustle\n",
      "Mr.  Robert Bustle\n"
     ]
    }
   ],
   "source": [
    "#2\n",
    "def formatter(func):\n",
    "    prefixes = {'M':'Mr.', 'F':'Ms.'}\n",
    "    def inner(cases):\n",
    "        sorted_cases = func(cases)\n",
    "        parts = [[prefixes[case[3]], case[0], case[1]] for case in sorted_cases]\n",
    "        return [' '.join(name_parts) for name_parts in parts]\n",
    "    return inner\n",
    "\n",
    "@formatter\n",
    "def sort(cases):\n",
    "    infos = [case.split(' ') for case in cases]\n",
    "    return sorted(infos, key = lambda x: int(x[2]))\n",
    "\n",
    "N = int(raw_input())\n",
    "cases = (raw_input() for i in xrange(N))\n",
    "\n",
    "for num in sort(cases):\n",
    "    print num"
   ]
  },
  {
   "cell_type": "code",
   "execution_count": null,
   "metadata": {
    "collapsed": true
   },
   "outputs": [],
   "source": []
  }
 ],
 "metadata": {
  "kernelspec": {
   "display_name": "Python 2",
   "language": "python",
   "name": "python2"
  },
  "language_info": {
   "codemirror_mode": {
    "name": "ipython",
    "version": 2
   },
   "file_extension": ".py",
   "mimetype": "text/x-python",
   "name": "python",
   "nbconvert_exporter": "python",
   "pygments_lexer": "ipython2",
   "version": "2.7.10"
  }
 },
 "nbformat": 4,
 "nbformat_minor": 0
}
