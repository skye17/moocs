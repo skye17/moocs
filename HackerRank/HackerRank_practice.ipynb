{
 "cells": [
  {
   "cell_type": "code",
   "execution_count": null,
   "metadata": {
    "collapsed": false
   },
   "outputs": [],
   "source": [
    "import re\n",
    "re.match(r\"[123][12a]\", \"1a\").group()"
   ]
  },
  {
   "cell_type": "code",
   "execution_count": null,
   "metadata": {
    "collapsed": false
   },
   "outputs": [],
   "source": [
    "# Detect HTML links\n",
    "\n",
    "# Enter your code here. Read input from STDIN. Print output to STDOUT\n",
    "import re\n",
    "\n",
    "def strip_links(string_list):\n",
    "    link  = r'(?:<\\s*a\\s+(?:href\\s*=\\s*\"(?P<link>[^\"]*)\")\\s*[^>]*>)'\n",
    "    tags_1 = r'\\s*(?:<.*?>)*(?P<text>[^>]*)(?:<.*?>)*<\\s*/a>'\n",
    "    pattern = link + tags_1\n",
    "    link_pattern = re.compile(pattern)\n",
    "    links_dict = {}\n",
    "    for s in string_list:\n",
    "        m = re.finditer(link_pattern, s)\n",
    "        if m:\n",
    "            for match in m:\n",
    "                link_text = match.group('link').strip(' ')\n",
    "                text = match.group('text').strip(' ')\n",
    "                print link_text + ',' + text\n",
    "                links_dict[link_text] = text\n",
    "    return links_dict\n",
    "\n",
    "N = int(raw_input())\n",
    "string_list = [raw_input() for i in xrange(N)]\n",
    "links_dict = strip_links(string_list)"
   ]
  },
  {
   "cell_type": "code",
   "execution_count": null,
   "metadata": {
    "collapsed": false
   },
   "outputs": [],
   "source": [
    "# Detect HTML tags\n",
    "import re\n",
    "\n",
    "def find_tags(string_list):\n",
    "    tag = r'</?\\s*(?P<tag>[a-zA-Z0-9]+)[^<>]*>'\n",
    "    tag_pattern = re.compile(tag)\n",
    "    tag_list = []\n",
    "    for s in string_list:\n",
    "        m = re.finditer(tag_pattern, s)\n",
    "        if m:\n",
    "            for match in m:\n",
    "                tag_text = match.group('tag')\n",
    "                #print tag_text \n",
    "                tag_list.append(tag_text)\n",
    "    tag_set = list(set(tag_list))\n",
    "    tag_set.sort()\n",
    "    return tag_set\n",
    "\n",
    "N = int(raw_input())\n",
    "string_list = [raw_input() for i in xrange(N)]\n",
    "tag_set = find_tags(string_list)\n",
    "print ';'.join(tag_set)"
   ]
  },
  {
   "cell_type": "code",
   "execution_count": null,
   "metadata": {
    "collapsed": false
   },
   "outputs": [],
   "source": [
    "# Find a substring\n",
    "import re\n",
    "\n",
    "def find_substring(string_list, substring):\n",
    "    pat = r'\\b\\w+'+ substring + r'\\w+\\b'\n",
    "    pattern = re.compile(pat)\n",
    "    count  = 0\n",
    "    for s in string_list:\n",
    "        m = re.findall(pattern, s)\n",
    "        if m:\n",
    "            count = count + len(m)\n",
    "    return count\n",
    "\n",
    "N = int(raw_input())\n",
    "string_list = [raw_input() for i in xrange(N)]\n",
    "T = int(raw_input())\n",
    "substring_list = [raw_input() for i in xrange(T)]\n",
    "for substr in substring_list:\n",
    "    print find_substring(string_list, substr)"
   ]
  },
  {
   "cell_type": "code",
   "execution_count": null,
   "metadata": {
    "collapsed": false
   },
   "outputs": [],
   "source": [
    "def nextMove(n,r,c,grid):\n",
    "    movements = [\"UP\", \"DOWN\", \"LEFT\", \"RIGHT\"]\n",
    "    princess_x, princess_y = 0, 0\n",
    "    right_movement = 0\n",
    "    for i in xrange(n):\n",
    "        for j in xrange(n):\n",
    "            if grid[i][j] == 'p':\n",
    "                princess_x = i\n",
    "                princess_y = j\n",
    "                break\n",
    "    distances = [r - princess_x, c - princess_y]\n",
    "    index = distances.index(min(distances, key = abs))\n",
    "    if distances[index] > 0:\n",
    "        right_movement = 2*index\n",
    "    elif distances[index] == 0:\n",
    "        index = 1- index\n",
    "        if distances[index] > 0:\n",
    "            right_movement = 2*index\n",
    "        else:\n",
    "            right_movement = 2*index+1\n",
    "    else:\n",
    "        right_movement = 2*index + 1\n",
    "    return movements[right_movement]\n",
    "\n",
    "n = input()\n",
    "r,c = [int(i) for i in raw_input().strip().split()]\n",
    "grid = []\n",
    "for i in xrange(0, n):\n",
    "    grid.append(raw_input())\n",
    "\n",
    "print nextMove(n,r,c,grid)"
   ]
  },
  {
   "cell_type": "code",
   "execution_count": null,
   "metadata": {
    "collapsed": false
   },
   "outputs": [],
   "source": [
    "#!/usr/bin/python\n",
    "def nextMove(n,r,c,grid):\n",
    "    movements = [\"UP\", \"DOWN\", \"LEFT\", \"RIGHT\"]\n",
    "    nearest_d_x, nearest_d_y = n+1, n+1\n",
    "    modul = pow(nearest_d_x,2) + pow(nearest_d_y,2)\n",
    "    right_movement = 0\n",
    "    for i in xrange(n):\n",
    "        for j in xrange(n):\n",
    "            if grid[i][j] == 'd':\n",
    "                current_modul = pow(abs(i - r),2) + pow(abs(j-c), 2)\n",
    "                if current_modul < modul:\n",
    "                    nearest_d_x = i\n",
    "                    nearest_d_y = j\n",
    "                    modul = current_modul\n",
    "    distances = [r - nearest_d_x, c - nearest_d_y]\n",
    "    index = distances.index(min(distances, key = abs))\n",
    "    if distances[index] > 0:\n",
    "        right_movement = 2*index\n",
    "    elif distances[index] == 0:\n",
    "        index = 1- index\n",
    "        if distances[index] > 0:\n",
    "            right_movement = 2*index\n",
    "        else:\n",
    "            right_movement = 2*index+1\n",
    "    else:\n",
    "        right_movement = 2*index + 1\n",
    "    return movements[right_movement]\n",
    "\n",
    "def next_move(posr, posc, board):\n",
    "    if board[posr][posc] == 'd':\n",
    "        print \"CLEAN\"\n",
    "    else :\n",
    "        print nextMove(len(board), posr, posc, board)\n",
    "if __name__ == \"__main__\":\n",
    "    pos = [int(i) for i in raw_input().strip().split()]\n",
    "    board = [[j for j in raw_input().strip()] for i in range(5)]\n",
    "    next_move(pos[0], pos[1], board)\n"
   ]
  },
  {
   "cell_type": "code",
   "execution_count": 1,
   "metadata": {
    "collapsed": false
   },
   "outputs": [
    {
     "name": "stdout",
     "output_type": "stream",
     "text": [
      "To be done!\n"
     ]
    }
   ],
   "source": [
    "# Maze  Escape\n",
    "print \"To be done!\""
   ]
  },
  {
   "cell_type": "code",
   "execution_count": 18,
   "metadata": {
    "collapsed": false
   },
   "outputs": [
    {
     "data": {
      "text/plain": [
       "0.841"
      ]
     },
     "execution_count": 18,
     "metadata": {},
     "output_type": "execute_result"
    }
   ],
   "source": [
    "from scipy.stats import norm\n",
    "round(norm.cdf(1), 3)"
   ]
  },
  {
   "cell_type": "code",
   "execution_count": 32,
   "metadata": {
    "collapsed": false
   },
   "outputs": [
    {
     "name": "stdout",
     "output_type": "stream",
     "text": [
      "15.87\n",
      "84.13\n",
      "15.87\n"
     ]
    }
   ],
   "source": [
    "print round(1- norm.cdf(80, loc =70, scale = 10), 4)*100\n",
    "print round(1- norm.cdf(60, loc =70, scale = 10), 4)*100\n",
    "print round(norm.cdf(60, loc =70, scale = 10), 4)*100"
   ]
  },
  {
   "cell_type": "code",
   "execution_count": 29,
   "metadata": {
    "collapsed": false
   },
   "outputs": [
    {
     "name": "stdout",
     "output_type": "stream",
     "text": [
      "2 1\n"
     ]
    },
    {
     "ename": "TypeError",
     "evalue": "'int' object is not iterable",
     "output_type": "error",
     "traceback": [
      "\u001b[1;31m---------------------------------------------------------------------------\u001b[0m",
      "\u001b[1;31mTypeError\u001b[0m                                 Traceback (most recent call last)",
      "\u001b[1;32m<ipython-input-29-dee59844c6e0>\u001b[0m in \u001b[0;36m<module>\u001b[1;34m()\u001b[0m\n\u001b[0;32m      3\u001b[0m \u001b[0mF\u001b[0m \u001b[1;33m=\u001b[0m \u001b[0mint\u001b[0m\u001b[1;33m(\u001b[0m\u001b[0mF\u001b[0m\u001b[1;33m)\u001b[0m\u001b[1;33m\u001b[0m\u001b[0m\n\u001b[0;32m      4\u001b[0m \u001b[0mH\u001b[0m \u001b[1;33m=\u001b[0m \u001b[0mint\u001b[0m\u001b[1;33m(\u001b[0m\u001b[0mH\u001b[0m\u001b[1;33m)\u001b[0m\u001b[1;33m\u001b[0m\u001b[0m\n\u001b[1;32m----> 5\u001b[1;33m \u001b[0mobservations\u001b[0m \u001b[1;33m=\u001b[0m \u001b[0mlist\u001b[0m\u001b[1;33m(\u001b[0m\u001b[0mF\u001b[0m\u001b[1;33m+\u001b[0m\u001b[1;36m1\u001b[0m\u001b[1;33m)\u001b[0m\u001b[1;33m\u001b[0m\u001b[0m\n\u001b[0m\u001b[0;32m      6\u001b[0m \u001b[1;32mfor\u001b[0m \u001b[0mi\u001b[0m \u001b[1;32min\u001b[0m \u001b[0mxrange\u001b[0m\u001b[1;33m(\u001b[0m\u001b[0mF\u001b[0m\u001b[1;33m+\u001b[0m\u001b[1;36m1\u001b[0m\u001b[1;33m)\u001b[0m\u001b[1;33m:\u001b[0m\u001b[1;33m\u001b[0m\u001b[0m\n\u001b[0;32m      7\u001b[0m     \u001b[0mobservations\u001b[0m\u001b[1;33m[\u001b[0m\u001b[0mi\u001b[0m\u001b[1;33m]\u001b[0m \u001b[1;33m=\u001b[0m \u001b[1;33m[\u001b[0m\u001b[0mfloat\u001b[0m\u001b[1;33m(\u001b[0m\u001b[0mx\u001b[0m\u001b[1;33m)\u001b[0m \u001b[1;32mfor\u001b[0m \u001b[0mx\u001b[0m \u001b[1;32min\u001b[0m \u001b[0mraw_input\u001b[0m\u001b[1;33m(\u001b[0m\u001b[1;33m)\u001b[0m\u001b[1;33m.\u001b[0m\u001b[0msplit\u001b[0m\u001b[1;33m(\u001b[0m\u001b[1;34m' '\u001b[0m\u001b[1;33m)\u001b[0m\u001b[1;33m]\u001b[0m\u001b[1;33m\u001b[0m\u001b[0m\n",
      "\u001b[1;31mTypeError\u001b[0m: 'int' object is not iterable"
     ]
    }
   ],
   "source": [
    "# House Prices\n",
    "F, H = raw_input().split(' ')\n",
    "F = int(F)\n",
    "H = int(H)\n",
    "observations = list(F+1)\n",
    "for i in xrange(F+1):\n",
    "    observations[i] = [float(x) for x in raw_input().split(' ')]\n",
    "    \n",
    "print observations"
   ]
  },
  {
   "cell_type": "code",
   "execution_count": null,
   "metadata": {
    "collapsed": false
   },
   "outputs": [],
   "source": [
    "# Markov's Snakes and Ladders\n",
    "import random\n",
    "\n",
    "def rroll(prob):\n",
    "    randRoll = random.random() # in [0,1)\n",
    "    sum = 0\n",
    "    result = 1\n",
    "    for mass in prob:\n",
    "        sum += mass\n",
    "        if randRoll < sum:\n",
    "            return result\n",
    "        result+=1\n",
    "\n",
    "def play(prob, start_ladders, end_ladders, start_snakes, end_snakes):\n",
    "    position = 1\n",
    "    counter = 0\n",
    "    while position != 100:\n",
    "        if counter >= 1000:\n",
    "            return None\n",
    "        roll = rroll(prob)\n",
    "        counter += 1\n",
    "        new_position = position + roll\n",
    "        if new_position > 100:\n",
    "            continue\n",
    "        if new_position in start_ladders:\n",
    "            position = end_ladders[start_ladders.index(new_position)]\n",
    "        elif new_position in start_snakes:\n",
    "            position = end_snakes[start_snakes.index(new_position)]\n",
    "        else:\n",
    "            position = new_position\n",
    "    return counter\n",
    "\n",
    "def test(N, prob, start_ladders, end_ladders, start_snakes, end_snakes):\n",
    "    results = []\n",
    "    while len(results) < 5000:\n",
    "        play_steps = play( prob, start_ladders, end_ladders, start_snakes, end_snakes)\n",
    "        if play_steps:\n",
    "            results.append(play_steps)\n",
    "    clean_results = map(float, results)\n",
    "    return int(sum(clean_results)/len(clean_results))\n",
    "    \n",
    "    \n",
    "N = 5000\n",
    "T = int(raw_input())\n",
    "results = []\n",
    "for i in xrange(T):\n",
    "    prob = map(float, raw_input().split(','))\n",
    "    n_ladders, n_snakes = map(int, raw_input().split(','))\n",
    "    start_ladders, end_ladders, start_snakes, end_snakes = [], [], [], []\n",
    "    positions = raw_input().split()\n",
    "    for i in xrange(len(positions)):\n",
    "        start_ladder, end_ladder = map(int, positions[i].split(','))\n",
    "        start_ladders.append(start_ladder)\n",
    "        end_ladders.append(end_ladder)\n",
    "    positions = raw_input().split()\n",
    "    for i in xrange(len(positions)):\n",
    "        start_snake, end_snake = map(int, positions[i].split(','))\n",
    "        start_snakes.append(start_snake)\n",
    "        end_snakes.append(end_snake)\n",
    "    result = test(N, prob, start_ladders, end_ladders, start_snakes, end_snakes)\n",
    "    results.append(result)\n",
    "for res in results:\n",
    "    print res"
   ]
  },
  {
   "cell_type": "code",
   "execution_count": null,
   "metadata": {
    "collapsed": false
   },
   "outputs": [],
   "source": []
  },
  {
   "cell_type": "code",
   "execution_count": 20,
   "metadata": {
    "collapsed": false
   },
   "outputs": [
    {
     "data": {
      "text/plain": [
       "0.696"
      ]
     },
     "execution_count": 20,
     "metadata": {},
     "output_type": "execute_result"
    }
   ],
   "source": [
    "from scipy.stats import binom\n",
    "round(1 - binom.cdf(2,6, 109./209),3)"
   ]
  },
  {
   "cell_type": "code",
   "execution_count": null,
   "metadata": {
    "collapsed": false
   },
   "outputs": [],
   "source": []
  },
  {
   "cell_type": "code",
   "execution_count": 25,
   "metadata": {
    "collapsed": false
   },
   "outputs": [
    {
     "ename": "KeyboardInterrupt",
     "evalue": "",
     "output_type": "error",
     "traceback": [
      "\u001b[1;31m---------------------------------------------------------------------------\u001b[0m",
      "\u001b[1;31mKeyboardInterrupt\u001b[0m                         Traceback (most recent call last)",
      "\u001b[1;32m<ipython-input-25-825a17a64b2e>\u001b[0m in \u001b[0;36m<module>\u001b[1;34m()\u001b[0m\n\u001b[0;32m     11\u001b[0m     \u001b[1;32mreturn\u001b[0m \u001b[0mfree\u001b[0m\u001b[1;33m[\u001b[0m\u001b[0mindex\u001b[0m\u001b[1;33m]\u001b[0m\u001b[1;33m\u001b[0m\u001b[0m\n\u001b[0;32m     12\u001b[0m \u001b[1;33m\u001b[0m\u001b[0m\n\u001b[1;32m---> 13\u001b[1;33m \u001b[0mbot_id\u001b[0m \u001b[1;33m=\u001b[0m \u001b[0mint\u001b[0m\u001b[1;33m(\u001b[0m\u001b[0mraw_input\u001b[0m\u001b[1;33m(\u001b[0m\u001b[1;33m)\u001b[0m\u001b[1;33m)\u001b[0m\u001b[1;33m\u001b[0m\u001b[0m\n\u001b[0m\u001b[0;32m     14\u001b[0m \u001b[0mboard\u001b[0m \u001b[1;33m=\u001b[0m \u001b[1;33m[\u001b[0m\u001b[1;33m]\u001b[0m\u001b[1;33m\u001b[0m\u001b[0m\n\u001b[0;32m     15\u001b[0m \u001b[1;32mfor\u001b[0m \u001b[0mi\u001b[0m \u001b[1;32min\u001b[0m \u001b[0mxrange\u001b[0m\u001b[1;33m(\u001b[0m\u001b[1;36m3\u001b[0m\u001b[1;33m)\u001b[0m\u001b[1;33m:\u001b[0m\u001b[1;33m\u001b[0m\u001b[0m\n",
      "\u001b[1;32m/home/skye17/ml/anaconda2/envs/dato-env/lib/python2.7/site-packages/ipykernel/kernelbase.pyc\u001b[0m in \u001b[0;36mraw_input\u001b[1;34m(self, prompt)\u001b[0m\n\u001b[0;32m    675\u001b[0m             \u001b[0mself\u001b[0m\u001b[1;33m.\u001b[0m\u001b[0m_parent_ident\u001b[0m\u001b[1;33m,\u001b[0m\u001b[1;33m\u001b[0m\u001b[0m\n\u001b[0;32m    676\u001b[0m             \u001b[0mself\u001b[0m\u001b[1;33m.\u001b[0m\u001b[0m_parent_header\u001b[0m\u001b[1;33m,\u001b[0m\u001b[1;33m\u001b[0m\u001b[0m\n\u001b[1;32m--> 677\u001b[1;33m             \u001b[0mpassword\u001b[0m\u001b[1;33m=\u001b[0m\u001b[0mFalse\u001b[0m\u001b[1;33m,\u001b[0m\u001b[1;33m\u001b[0m\u001b[0m\n\u001b[0m\u001b[0;32m    678\u001b[0m         )\n\u001b[0;32m    679\u001b[0m \u001b[1;33m\u001b[0m\u001b[0m\n",
      "\u001b[1;32m/home/skye17/ml/anaconda2/envs/dato-env/lib/python2.7/site-packages/ipykernel/kernelbase.pyc\u001b[0m in \u001b[0;36m_input_request\u001b[1;34m(self, prompt, ident, parent, password)\u001b[0m\n\u001b[0;32m    705\u001b[0m             \u001b[1;32mexcept\u001b[0m \u001b[0mKeyboardInterrupt\u001b[0m\u001b[1;33m:\u001b[0m\u001b[1;33m\u001b[0m\u001b[0m\n\u001b[0;32m    706\u001b[0m                 \u001b[1;31m# re-raise KeyboardInterrupt, to truncate traceback\u001b[0m\u001b[1;33m\u001b[0m\u001b[1;33m\u001b[0m\u001b[0m\n\u001b[1;32m--> 707\u001b[1;33m                 \u001b[1;32mraise\u001b[0m \u001b[0mKeyboardInterrupt\u001b[0m\u001b[1;33m\u001b[0m\u001b[0m\n\u001b[0m\u001b[0;32m    708\u001b[0m             \u001b[1;32melse\u001b[0m\u001b[1;33m:\u001b[0m\u001b[1;33m\u001b[0m\u001b[0m\n\u001b[0;32m    709\u001b[0m                 \u001b[1;32mbreak\u001b[0m\u001b[1;33m\u001b[0m\u001b[0m\n",
      "\u001b[1;31mKeyboardInterrupt\u001b[0m: "
     ]
    }
   ],
   "source": [
    "import random\n",
    "\n",
    "def most_free(board, free):\n",
    "    free_left = sum([int(board[i] != '#') for i in [0,1,6,7]])\n",
    "    free_right = sum([int(board[i] != '#') for i in [1,2,7,8]])\n",
    "    free_up = sum([int(board[i] != '#') for i in [0,3,2,5]])\n",
    "    free_down = sum([int(board[i] != '#') for i in [3,5,6,8]]) \n",
    "    free_dict = {'LEFT':free_left, 'RIGHT':free_right, 'UP':free_up, 'DOWN':free_down}\n",
    "    free_list = [free_dict[m] for m in free]\n",
    "    index = free_list.index(max(free_list))\n",
    "    return free[index]\n",
    "\n",
    "bot_id = int(raw_input())\n",
    "board = []\n",
    "for i in xrange(3):\n",
    "    board = board + list(raw_input())\n",
    "strat_dict = {0:['LEFT', 'UP'], 2:['RIGHT', 'UP'], 6:['LEFT', 'DOWN'], 8:['RIGHT', 'DOWN']}\n",
    "moves = ['LEFT', 'RIGHT', 'UP', 'DOWN']\n",
    "bot_envir = list(board[i] for i in [3,5,1,7]) \n",
    "free = [moves[i] for i in range(4) if bot_envir[i] != '#']\n",
    "goal = 'e'\n",
    "if goal in board:\n",
    "    index = board.index(goal)\n",
    "    if index == 3:\n",
    "        print 'LEFT'\n",
    "    elif index == 5:\n",
    "        print 'RIGHT'\n",
    "    elif index == 1:\n",
    "        print 'UP'\n",
    "    elif index == 7:\n",
    "        print 'DOWN'\n",
    "    else:\n",
    "        if any(strat_dict[index]) in free:\n",
    "            if all(strat_dict[index]) in free:\n",
    "                print strat_dict[index](random.randint(0,1))\n",
    "            elif strat_dict[index][0] in free:\n",
    "                print strat_dict[index][0]\n",
    "            else:\n",
    "                print strat_dict[index][1]\n",
    "        else:\n",
    "            print free[random.randint(0, len(free)-1)]\n",
    "else:\n",
    "    print free[random.randint(0, len(free)-1)]"
   ]
  },
  {
   "cell_type": "code",
   "execution_count": 11,
   "metadata": {
    "collapsed": false
   },
   "outputs": [
    {
     "name": "stdout",
     "output_type": "stream",
     "text": [
      "['RIGHT', 'DOWN']\n"
     ]
    }
   ],
   "source": [
    "# BEST version\n",
    "import random\n",
    "bot_id = int(raw_input())\n",
    "board = []\n",
    "for i in xrange(3):\n",
    "    board = board + list(raw_input())\n",
    "strat_dict = {0:['LEFT', 'UP'], 2:['RIGHT', 'UP'], 6:['LEFT', 'DOWN'], 8:['RIGHT', 'DOWN']}\n",
    "moves = ['LEFT', 'RIGHT', 'UP', 'DOWN']\n",
    "bot_envir = list(board[i] for i in [3,5,1,7]) \n",
    "free = [moves[i] for i in range(4) if bot_envir[i] != '#']\n",
    "goal = 'e'\n",
    "if goal in board:\n",
    "    index = board.index(goal)\n",
    "    if index == 3:\n",
    "        print 'LEFT'\n",
    "    elif index == 5:\n",
    "        print 'RIGHT'\n",
    "    elif index == 1:\n",
    "        print 'UP'\n",
    "    elif index == 7:\n",
    "        print 'DOWN'\n",
    "    else:\n",
    "        if strat_dict[index][0] in free:\n",
    "            print strat_dict[index][0]\n",
    "        elif strat_dict[index][1] in free:\n",
    "            print strat_dict[index][1]\n",
    "        else:\n",
    "            print free[random.randint(0, len(free)-1)]\n",
    "else:\n",
    "    print free[random.randint(0, len(free)-1)]"
   ]
  },
  {
   "cell_type": "code",
   "execution_count": null,
   "metadata": {
    "collapsed": false
   },
   "outputs": [],
   "source": []
  },
  {
   "cell_type": "code",
   "execution_count": null,
   "metadata": {
    "collapsed": false
   },
   "outputs": [],
   "source": [
    "#!/bin/python\n",
    "def nextMove(player,board):\n",
    "    dict_on = {}\n",
    "    for r in xrange(0, 8):\n",
    "        for c in xrange(0, 8):\n",
    "            print board[r][c]\n",
    "            if board[r][c] == 1:\n",
    "                value = board[r][c]\n",
    "                if r + 1 < 8:\n",
    "                    value += board[r+1][c]\n",
    "                if c + 1  < 8:\n",
    "                    value += board[r][c+1]\n",
    "                print str(r) + ', '+str(c) + ':' + str(value)\n",
    "                if value == 3:\n",
    "                    return r, c\n",
    "                else:\n",
    "                    dict_on[(r, c)] = value\n",
    "    for key, value in dict_on.items():\n",
    "        if value == 2:\n",
    "            return key[0], key[1]\n",
    "    return (dict_on.keys()[0])[0], (dict_on.keys()[0])[1]\n",
    "#If player is 1, I'm the first player.\n",
    "#If player is 2, I'm the second player.\n",
    "player = raw_input()\n",
    "\n",
    "#Read the board now. The board is a 8x8 array filled with 1 or 0.\n",
    "board = []\n",
    "for i in xrange(0, 8):\n",
    "    board.append(raw_input())\n",
    "\n",
    "print nextMove(player,board)"
   ]
  },
  {
   "cell_type": "code",
   "execution_count": null,
   "metadata": {
    "collapsed": true
   },
   "outputs": [],
   "source": []
  }
 ],
 "metadata": {
  "kernelspec": {
   "display_name": "Python 2",
   "language": "python",
   "name": "python2"
  },
  "language_info": {
   "codemirror_mode": {
    "name": "ipython",
    "version": 2
   },
   "file_extension": ".py",
   "mimetype": "text/x-python",
   "name": "python",
   "nbconvert_exporter": "python",
   "pygments_lexer": "ipython2",
   "version": "2.7.10"
  }
 },
 "nbformat": 4,
 "nbformat_minor": 0
}
